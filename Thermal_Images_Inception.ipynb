{
 "cells": [
  {
   "cell_type": "code",
   "execution_count": 5,
   "id": "12fff570-4311-40c5-9bc9-0b0ed8385493",
   "metadata": {},
   "outputs": [],
   "source": [
    "import torch\n",
    "import torch.nn as nn\n",
    "import torch.optim as optim\n",
    "from torchvision import datasets, transforms, models\n",
    "from torch.utils.data import Dataset\n",
    "from torch.utils.data import DataLoader, random_split\n",
    "from sklearn.metrics import classification_report, confusion_matrix\n",
    "from tqdm import tqdm\n",
    "from PIL import Image\n",
    "import random\n",
    "import warnings\n",
    "from collections import Counter\n",
    "warnings.filterwarnings(\"ignore\")"
   ]
  },
  {
   "cell_type": "code",
   "execution_count": 6,
   "id": "a830d77f-02cb-48cb-bd26-6c0745c094a7",
   "metadata": {},
   "outputs": [
    {
     "name": "stdout",
     "output_type": "stream",
     "text": [
      "2.5.1+cu121\n",
      "12.1\n"
     ]
    }
   ],
   "source": [
    "import torch\n",
    "print(torch.__version__)  # Check PyTorch version\n",
    "print(torch.version.cuda)  # Check CUDA version PyTorch was built with"
   ]
  },
  {
   "cell_type": "code",
   "execution_count": 7,
   "id": "19b84fbd-6d18-42fd-b40c-a122ed003b84",
   "metadata": {},
   "outputs": [
    {
     "name": "stdout",
     "output_type": "stream",
     "text": [
      "2.5.1+cu121\n",
      "12.1\n"
     ]
    }
   ],
   "source": [
    "import torch\n",
    "print(torch.__version__)  # Check PyTorch version\n",
    "print(torch.version.cuda)  # Check CUDA version PyTorch was built with"
   ]
  },
  {
   "cell_type": "code",
   "execution_count": 8,
   "id": "a200bfd5-8e8e-4985-879e-e2a2126b3531",
   "metadata": {},
   "outputs": [
    {
     "name": "stdout",
     "output_type": "stream",
     "text": [
      "Wed Feb 12 00:58:39 2025       \n",
      "+-----------------------------------------------------------------------------------------+\n",
      "| NVIDIA-SMI 572.16                 Driver Version: 572.16         CUDA Version: 12.8     |\n",
      "|-----------------------------------------+------------------------+----------------------+\n",
      "| GPU  Name                  Driver-Model | Bus-Id          Disp.A | Volatile Uncorr. ECC |\n",
      "| Fan  Temp   Perf          Pwr:Usage/Cap |           Memory-Usage | GPU-Util  Compute M. |\n",
      "|                                         |                        |               MIG M. |\n",
      "|=========================================+========================+======================|\n",
      "|   0  NVIDIA GeForce GTX 1650      WDDM  |   00000000:01:00.0 Off |                  N/A |\n",
      "| N/A   48C    P8              5W /   50W |    3815MiB /   4096MiB |      0%      Default |\n",
      "|                                         |                        |                  N/A |\n",
      "+-----------------------------------------+------------------------+----------------------+\n",
      "                                                                                         \n",
      "+-----------------------------------------------------------------------------------------+\n",
      "| Processes:                                                                              |\n",
      "|  GPU   GI   CI              PID   Type   Process name                        GPU Memory |\n",
      "|        ID   ID                                                               Usage      |\n",
      "|=========================================================================================|\n",
      "|    0   N/A  N/A           13048      C   ...gramData\\anaconda3\\python.exe      N/A      |\n",
      "+-----------------------------------------------------------------------------------------+\n"
     ]
    }
   ],
   "source": [
    "!nvidia-smi"
   ]
  },
  {
   "cell_type": "code",
   "execution_count": 15,
   "id": "fcd856dd-edde-4031-a18e-3e5d82b5b7d8",
   "metadata": {},
   "outputs": [],
   "source": [
    "# Define transformations (Resize, Normalize, Augment)\n",
    "transform = transforms.Compose([\n",
    "    transforms.Resize((299, 299)),\n",
    "    transforms.RandomHorizontalFlip(),\n",
    "    transforms.RandomRotation(10),\n",
    "    transforms.ToTensor(),\n",
    "    transforms.Normalize([0.485, 0.456, 0.406], [0.229, 0.224, 0.225])\n",
    "])"
   ]
  },
  {
   "cell_type": "code",
   "execution_count": 16,
   "id": "977e7ca2-1820-49e0-bac3-9d2b00176678",
   "metadata": {},
   "outputs": [
    {
     "name": "stdout",
     "output_type": "stream",
     "text": [
      "Counter({0: 220, 3: 142, 2: 93, 5: 80, 1: 67, 4: 34})\n"
     ]
    }
   ],
   "source": [
    "# Assuming dataset is a folder-based ImageFolder dataset\n",
    "dataset = datasets.ImageFolder(\"thermal\", transform=transform)\n",
    "\n",
    "# Count occurrences of each class\n",
    "class_counts = Counter([label for _, label in dataset.samples])\n",
    "max_count = max(class_counts.values())  # Find the class with the highest count\n",
    "\n",
    "print(class_counts)  # Print class distribution\n"
   ]
  },
  {
   "cell_type": "code",
   "execution_count": 17,
   "id": "4e9d7da6-88b7-4488-a138-b7cdb100624a",
   "metadata": {},
   "outputs": [],
   "source": [
    "# Split dataset into 60% Train, 20% Validation, 20% Test\n",
    "train_size = int(0.6 * len(dataset))\n",
    "val_size = int(0.2 * len(dataset))\n",
    "test_size = len(dataset) - train_size - val_size  # Remaining samples go to test\n",
    "\n",
    "train_data, val_data, test_data = random_split(dataset, [train_size, val_size, test_size])"
   ]
  },
  {
   "cell_type": "code",
   "execution_count": 18,
   "id": "5633386e-5da9-4817-8307-dd79b47f28b1",
   "metadata": {},
   "outputs": [],
   "source": [
    "# Create DataLoaders\n",
    "train_loader = DataLoader(train_data, batch_size=32, shuffle=True, num_workers=0)\n",
    "val_loader = DataLoader(val_data, batch_size=32, shuffle=False, num_workers=0)\n",
    "test_loader = DataLoader(test_data, batch_size=32, shuffle=False, num_workers=0)"
   ]
  },
  {
   "cell_type": "code",
   "execution_count": 21,
   "id": "d6b2f9a8-4c15-47ea-ae4f-4914c4ddad90",
   "metadata": {},
   "outputs": [],
   "source": [
    "import torch\n",
    "import torch.nn as nn\n",
    "import torch.optim as optim\n",
    "import torchvision.models as models\n",
    "from tqdm import tqdm\n",
    "import numpy as np\n",
    "import matplotlib.pyplot as plt\n",
    "from sklearn.metrics import classification_report, confusion_matrix, precision_recall_curve\n",
    "\n",
    "def train_inception(train_loader, val_loader, num_classes=6, num_epochs=20, lr=0.0001):\n",
    "    # Ensure GPU is available\n",
    "    if not torch.cuda.is_available():\n",
    "        raise RuntimeError(\"GPU not available. This code requires a GPU to run.\")\n",
    "    device = torch.device(\"cuda\")\n",
    "    print(f\"\\nUsing device: {device} ({torch.cuda.get_device_name(device)})\\n\")\n",
    "\n",
    "    # Load pretrained Inception v3\n",
    "    model = models.inception_v3(weights=\"DEFAULT\")\n",
    "    \n",
    "    # Modify classifier for 6 classes (Inception has both primary and auxiliary classifiers)\n",
    "    model.fc = nn.Linear(model.fc.in_features, num_classes)\n",
    "    if model.AuxLogits:\n",
    "        model.AuxLogits.fc = nn.Linear(model.AuxLogits.fc.in_features, num_classes)\n",
    "    \n",
    "    model = model.to(device)\n",
    "    \n",
    "    # Define loss function and optimizer\n",
    "    criterion = nn.CrossEntropyLoss()\n",
    "    optimizer = optim.Adam(model.parameters(), lr=lr)\n",
    "    \n",
    "    print(f\"\\nTraining Inception v3 for {num_epochs} epochs...\\n\")\n",
    "    for epoch in range(num_epochs):\n",
    "        model.train()\n",
    "        running_loss, correct, total = 0.0, 0, 0\n",
    "        progress_bar = tqdm(train_loader, desc=f\"Epoch {epoch+1}/{num_epochs}\", leave=True)\n",
    "\n",
    "        for images, labels in progress_bar:\n",
    "            images, labels = images.to(device), labels.to(device)\n",
    "            optimizer.zero_grad()\n",
    "            outputs, aux_outputs = model(images)\n",
    "            \n",
    "            loss = criterion(outputs, labels)\n",
    "            if model.AuxLogits:\n",
    "                loss_aux = criterion(aux_outputs, labels)\n",
    "                loss += 0.4 * loss_aux  # Auxiliary loss factor\n",
    "            \n",
    "            loss.backward()\n",
    "            optimizer.step()\n",
    "            \n",
    "            running_loss += loss.item()\n",
    "            _, preds = torch.max(outputs, 1)\n",
    "            correct += (preds == labels).sum().item()\n",
    "            total += labels.size(0)\n",
    "            progress_bar.set_postfix(loss=running_loss / len(train_loader), accuracy=100 * correct / total)\n",
    "        \n",
    "        print(f\"Epoch {epoch+1}: Loss = {running_loss / len(train_loader):.4f}, Accuracy = {100 * correct / total:.2f}%\")\n",
    "    \n",
    "    # Evaluation Function with PR Curve\n",
    "    def evaluate_model(loader, dataset_type=\"Validation\"):\n",
    "        model.eval()\n",
    "        correct, total = 0, 0\n",
    "        y_true, y_pred, y_scores = [], [], []\n",
    "        \n",
    "        with torch.no_grad():\n",
    "            for images, labels in tqdm(loader, desc=f\"🔍 Evaluating {dataset_type} Set\", leave=True):\n",
    "                images, labels = images.to(device), labels.to(device)\n",
    "                outputs = model(images)\n",
    "                \n",
    "                _, preds = torch.max(outputs, 1)\n",
    "                y_true.extend(labels.cpu().numpy())\n",
    "                y_pred.extend(preds.cpu().numpy())\n",
    "                y_scores.extend(torch.softmax(outputs, dim=1).cpu().numpy())\n",
    "                \n",
    "                correct += (preds == labels).sum().item()\n",
    "                total += labels.size(0)\n",
    "        \n",
    "        accuracy = 100 * correct / total\n",
    "        print(f\"\\n{dataset_type} Set Accuracy: {accuracy:.2f}%\")\n",
    "        print(classification_report(y_true, y_pred))\n",
    "        print(confusion_matrix(y_true, y_pred))\n",
    "        \n",
    "        # Precision-Recall Curve Plot\n",
    "        y_true_one_hot = np.eye(num_classes)[y_true]\n",
    "        plt.figure(figsize=(10, 6))\n",
    "        for class_idx in range(num_classes):\n",
    "            precision, recall, _ = precision_recall_curve(y_true_one_hot[:, class_idx], np.array(y_scores)[:, class_idx])\n",
    "            plt.plot(recall, precision, label=f'Class {class_idx}')\n",
    "        \n",
    "        plt.xlabel('Recall')\n",
    "        plt.ylabel('Precision')\n",
    "        plt.title(f'Precision-Recall Curve for {dataset_type} Set')\n",
    "        plt.legend()\n",
    "        plt.grid()\n",
    "        plt.show()\n",
    "    \n",
    "    # Evaluate on Validation Set\n",
    "    evaluate_model(val_loader, \"Validation\")\n",
    "    evaluate_model(test_loader, \"Testing\")\n",
    "    return model\n"
   ]
  },
  {
   "cell_type": "code",
   "execution_count": null,
   "id": "fd28c188-da6d-40c4-a488-b558e5f38662",
   "metadata": {},
   "outputs": [
    {
     "name": "stdout",
     "output_type": "stream",
     "text": [
      "\n",
      "Using device: cuda (NVIDIA GeForce GTX 1650)\n",
      "\n",
      "\n",
      "Training Inception v3 for 20 epochs...\n",
      "\n"
     ]
    },
    {
     "name": "stderr",
     "output_type": "stream",
     "text": [
      "Epoch 1/20: 100%|████████████████████████████████████████████| 12/12 [02:12<00:00, 11.01s/it, accuracy=39.6, loss=2.23]\n"
     ]
    },
    {
     "name": "stdout",
     "output_type": "stream",
     "text": [
      "Epoch 1: Loss = 2.2269, Accuracy = 39.63%\n"
     ]
    },
    {
     "name": "stderr",
     "output_type": "stream",
     "text": [
      "Epoch 2/20: 100%|████████████████████████████████████████████| 12/12 [02:16<00:00, 11.34s/it, accuracy=67.5, loss=1.41]\n"
     ]
    },
    {
     "name": "stdout",
     "output_type": "stream",
     "text": [
      "Epoch 2: Loss = 1.4148, Accuracy = 67.45%\n"
     ]
    },
    {
     "name": "stderr",
     "output_type": "stream",
     "text": [
      "Epoch 3/20: 100%|███████████████████████████████████████████| 12/12 [02:16<00:00, 11.33s/it, accuracy=82.2, loss=0.804]\n"
     ]
    },
    {
     "name": "stdout",
     "output_type": "stream",
     "text": [
      "Epoch 3: Loss = 0.8039, Accuracy = 82.15%\n"
     ]
    },
    {
     "name": "stderr",
     "output_type": "stream",
     "text": [
      "Epoch 4/20: 100%|███████████████████████████████████████████| 12/12 [02:15<00:00, 11.33s/it, accuracy=91.1, loss=0.472]\n"
     ]
    },
    {
     "name": "stdout",
     "output_type": "stream",
     "text": [
      "Epoch 4: Loss = 0.4723, Accuracy = 91.08%\n"
     ]
    },
    {
     "name": "stderr",
     "output_type": "stream",
     "text": [
      "Epoch 5/20: 100%|███████████████████████████████████████████| 12/12 [02:15<00:00, 11.32s/it, accuracy=96.1, loss=0.255]\n"
     ]
    },
    {
     "name": "stdout",
     "output_type": "stream",
     "text": [
      "Epoch 5: Loss = 0.2550, Accuracy = 96.06%\n"
     ]
    },
    {
     "name": "stderr",
     "output_type": "stream",
     "text": [
      "Epoch 6/20: 100%|███████████████████████████████████████████| 12/12 [02:15<00:00, 11.31s/it, accuracy=97.1, loss=0.169]\n"
     ]
    },
    {
     "name": "stdout",
     "output_type": "stream",
     "text": [
      "Epoch 6: Loss = 0.1691, Accuracy = 97.11%\n"
     ]
    },
    {
     "name": "stderr",
     "output_type": "stream",
     "text": [
      "Epoch 7/20: 100%|███████████████████████████████████████████| 12/12 [02:16<00:00, 11.34s/it, accuracy=98.4, loss=0.118]\n"
     ]
    },
    {
     "name": "stdout",
     "output_type": "stream",
     "text": [
      "Epoch 7: Loss = 0.1176, Accuracy = 98.43%\n"
     ]
    },
    {
     "name": "stderr",
     "output_type": "stream",
     "text": [
      "Epoch 8/20: 100%|████████████████████████████████████████████| 12/12 [02:15<00:00, 11.33s/it, accuracy=99, loss=0.0758]\n"
     ]
    },
    {
     "name": "stdout",
     "output_type": "stream",
     "text": [
      "Epoch 8: Loss = 0.0758, Accuracy = 98.95%\n"
     ]
    },
    {
     "name": "stderr",
     "output_type": "stream",
     "text": [
      "Epoch 9/20: 100%|██████████████████████████████████████████| 12/12 [02:18<00:00, 11.53s/it, accuracy=99.5, loss=0.0726]\n"
     ]
    },
    {
     "name": "stdout",
     "output_type": "stream",
     "text": [
      "Epoch 9: Loss = 0.0726, Accuracy = 99.48%\n"
     ]
    },
    {
     "name": "stderr",
     "output_type": "stream",
     "text": [
      "Epoch 10/20: 100%|███████████████████████████████████████████| 12/12 [02:16<00:00, 11.40s/it, accuracy=99, loss=0.0731]\n"
     ]
    },
    {
     "name": "stdout",
     "output_type": "stream",
     "text": [
      "Epoch 10: Loss = 0.0731, Accuracy = 98.95%\n"
     ]
    },
    {
     "name": "stderr",
     "output_type": "stream",
     "text": [
      "Epoch 11/20: 100%|█████████████████████████████████████████| 12/12 [02:16<00:00, 11.41s/it, accuracy=99.5, loss=0.0567]\n"
     ]
    },
    {
     "name": "stdout",
     "output_type": "stream",
     "text": [
      "Epoch 11: Loss = 0.0567, Accuracy = 99.48%\n"
     ]
    },
    {
     "name": "stderr",
     "output_type": "stream",
     "text": [
      "Epoch 12/20: 100%|███████████████████████████████████████████| 12/12 [02:16<00:00, 11.39s/it, accuracy=99, loss=0.0505]\n"
     ]
    },
    {
     "name": "stdout",
     "output_type": "stream",
     "text": [
      "Epoch 12: Loss = 0.0505, Accuracy = 98.95%\n"
     ]
    },
    {
     "name": "stderr",
     "output_type": "stream",
     "text": [
      "Epoch 13/20: 100%|█████████████████████████████████████████| 12/12 [02:15<00:00, 11.29s/it, accuracy=97.9, loss=0.0894]\n"
     ]
    },
    {
     "name": "stdout",
     "output_type": "stream",
     "text": [
      "Epoch 13: Loss = 0.0894, Accuracy = 97.90%\n"
     ]
    },
    {
     "name": "stderr",
     "output_type": "stream",
     "text": [
      "Epoch 14/20: 100%|█████████████████████████████████████████| 12/12 [02:13<00:00, 11.12s/it, accuracy=97.6, loss=0.0899]\n"
     ]
    },
    {
     "name": "stdout",
     "output_type": "stream",
     "text": [
      "Epoch 14: Loss = 0.0899, Accuracy = 97.64%\n"
     ]
    },
    {
     "name": "stderr",
     "output_type": "stream",
     "text": [
      "Epoch 15/20: 100%|██████████████████████████████████████████| 12/12 [02:13<00:00, 11.11s/it, accuracy=95.5, loss=0.175]\n"
     ]
    },
    {
     "name": "stdout",
     "output_type": "stream",
     "text": [
      "Epoch 15: Loss = 0.1749, Accuracy = 95.54%\n"
     ]
    },
    {
     "name": "stderr",
     "output_type": "stream",
     "text": [
      "Epoch 16/20: 100%|█████████████████████████████████████████| 12/12 [02:13<00:00, 11.12s/it, accuracy=98.7, loss=0.0609]\n"
     ]
    },
    {
     "name": "stdout",
     "output_type": "stream",
     "text": [
      "Epoch 16: Loss = 0.0609, Accuracy = 98.69%\n"
     ]
    },
    {
     "name": "stderr",
     "output_type": "stream",
     "text": [
      "Epoch 17/20: 100%|██████████████████████████████████████████| 12/12 [02:13<00:00, 11.11s/it, accuracy=100, loss=0.0396]\n"
     ]
    },
    {
     "name": "stdout",
     "output_type": "stream",
     "text": [
      "Epoch 17: Loss = 0.0396, Accuracy = 100.00%\n"
     ]
    },
    {
     "name": "stderr",
     "output_type": "stream",
     "text": [
      "Epoch 18/20: 100%|█████████████████████████████████████████| 12/12 [02:13<00:00, 11.11s/it, accuracy=99.7, loss=0.0279]\n"
     ]
    },
    {
     "name": "stdout",
     "output_type": "stream",
     "text": [
      "Epoch 18: Loss = 0.0279, Accuracy = 99.74%\n"
     ]
    },
    {
     "name": "stderr",
     "output_type": "stream",
     "text": [
      "Epoch 19/20: 100%|█████████████████████████████████████████| 12/12 [02:13<00:00, 11.11s/it, accuracy=99.7, loss=0.0214]\n"
     ]
    },
    {
     "name": "stdout",
     "output_type": "stream",
     "text": [
      "Epoch 19: Loss = 0.0214, Accuracy = 99.74%\n"
     ]
    },
    {
     "name": "stderr",
     "output_type": "stream",
     "text": [
      "Epoch 20/20: 100%|██████████████████████████████████████████| 12/12 [02:13<00:00, 11.11s/it, accuracy=99.7, loss=0.026]\n"
     ]
    },
    {
     "name": "stdout",
     "output_type": "stream",
     "text": [
      "Epoch 20: Loss = 0.0260, Accuracy = 99.74%\n"
     ]
    },
    {
     "name": "stderr",
     "output_type": "stream",
     "text": [
      "🔍 Evaluating Validation Set:  50%|███████████████████████████                           | 2/4 [00:05<00:05,  2.73s/it]"
     ]
    }
   ],
   "source": [
    "train_inception(train_loader, val_loader, num_classes=6, num_epochs=20, lr=0.0001)"
   ]
  },
  {
   "cell_type": "code",
   "execution_count": null,
   "id": "7c5eaaa2-e59d-47a7-9cd0-5729b780cc05",
   "metadata": {},
   "outputs": [],
   "source": []
  }
 ],
 "metadata": {
  "kernelspec": {
   "display_name": "Python 3 (ipykernel)",
   "language": "python",
   "name": "python3"
  },
  "language_info": {
   "codemirror_mode": {
    "name": "ipython",
    "version": 3
   },
   "file_extension": ".py",
   "mimetype": "text/x-python",
   "name": "python",
   "nbconvert_exporter": "python",
   "pygments_lexer": "ipython3",
   "version": "3.12.7"
  }
 },
 "nbformat": 4,
 "nbformat_minor": 5
}
