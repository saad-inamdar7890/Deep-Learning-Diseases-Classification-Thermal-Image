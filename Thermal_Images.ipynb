{
 "cells": [
  {
   "cell_type": "code",
   "execution_count": 1,
   "id": "b5ddbe20-2a04-43cf-bd6e-560c294cf89a",
   "metadata": {},
   "outputs": [],
   "source": [
    "import torch\n",
    "import torch.nn as nn\n",
    "import torch.optim as optim\n",
    "from torchvision import datasets, transforms, models\n",
    "from torch.utils.data import Dataset\n",
    "from torch.utils.data import DataLoader, random_split\n",
    "from sklearn.metrics import classification_report, confusion_matrix\n",
    "from tqdm import tqdm\n",
    "from PIL import Image\n",
    "import random\n",
    "import warnings\n",
    "from collections import Counter\n",
    "warnings.filterwarnings(\"ignore\")"
   ]
  },
  {
   "cell_type": "code",
   "execution_count": 2,
   "id": "18ea4093-f2a9-487c-9c59-95d0b2eb0a3b",
   "metadata": {},
   "outputs": [
    {
     "name": "stdout",
     "output_type": "stream",
     "text": [
      "2.5.1+cu121\n",
      "12.1\n"
     ]
    }
   ],
   "source": [
    "import torch\n",
    "print(torch.__version__)  # Check PyTorch version\n",
    "print(torch.version.cuda)  # Check CUDA version PyTorch was built with"
   ]
  },
  {
   "cell_type": "code",
   "execution_count": 3,
   "id": "2c5d8267-daaa-48b8-a399-90ee32ef0bd9",
   "metadata": {},
   "outputs": [
    {
     "name": "stdout",
     "output_type": "stream",
     "text": [
      "CUDA Available: True\n",
      "GPU Name: NVIDIA GeForce GTX 1650\n"
     ]
    }
   ],
   "source": [
    "import torch\n",
    "print(\"CUDA Available:\", torch.cuda.is_available())\n",
    "print(\"GPU Name:\", torch.cuda.get_device_name(0) if torch.cuda.is_available() else \"No GPU found\")"
   ]
  },
  {
   "cell_type": "code",
   "execution_count": 4,
   "id": "4da7ae09-c494-4927-91da-611426022ffd",
   "metadata": {},
   "outputs": [
    {
     "name": "stdout",
     "output_type": "stream",
     "text": [
      "Tue Feb 11 23:36:22 2025       \n",
      "+-----------------------------------------------------------------------------------------+\n",
      "| NVIDIA-SMI 572.16                 Driver Version: 572.16         CUDA Version: 12.8     |\n",
      "|-----------------------------------------+------------------------+----------------------+\n",
      "| GPU  Name                  Driver-Model | Bus-Id          Disp.A | Volatile Uncorr. ECC |\n",
      "| Fan  Temp   Perf          Pwr:Usage/Cap |           Memory-Usage | GPU-Util  Compute M. |\n",
      "|                                         |                        |               MIG M. |\n",
      "|=========================================+========================+======================|\n",
      "|   0  NVIDIA GeForce GTX 1650      WDDM  |   00000000:01:00.0 Off |                  N/A |\n",
      "| N/A   51C    P0             15W /   50W |       0MiB /   4096MiB |      0%      Default |\n",
      "|                                         |                        |                  N/A |\n",
      "+-----------------------------------------+------------------------+----------------------+\n",
      "                                                                                         \n",
      "+-----------------------------------------------------------------------------------------+\n",
      "| Processes:                                                                              |\n",
      "|  GPU   GI   CI              PID   Type   Process name                        GPU Memory |\n",
      "|        ID   ID                                                               Usage      |\n",
      "|=========================================================================================|\n",
      "|  No running processes found                                                             |\n",
      "+-----------------------------------------------------------------------------------------+\n"
     ]
    }
   ],
   "source": [
    "!nvidia-smi"
   ]
  },
  {
   "cell_type": "code",
   "execution_count": 5,
   "id": "a6e7d711-b8bc-4fe5-8fff-93965939f52a",
   "metadata": {},
   "outputs": [],
   "source": [
    "# Define transformations (Resize, Normalize, Augment)\n",
    "transform = transforms.Compose([\n",
    "    transforms.Resize((224, 224)),\n",
    "    transforms.RandomHorizontalFlip(),\n",
    "    transforms.RandomRotation(10),\n",
    "    transforms.ToTensor(),\n",
    "    transforms.Normalize([0.485, 0.456, 0.406], [0.229, 0.224, 0.225])\n",
    "])"
   ]
  },
  {
   "cell_type": "code",
   "execution_count": 20,
   "id": "b88ce431-d20c-4dcb-98d7-9e5ec526c85c",
   "metadata": {},
   "outputs": [],
   "source": [
    "# Define transformations (Resize, Normalize, Augment)\n",
    "transform1 = transforms.Compose([\n",
    "    transforms.Resize((299, 299)),\n",
    "    transforms.RandomHorizontalFlip(),\n",
    "    transforms.RandomRotation(10),\n",
    "    transforms.ToTensor(),\n",
    "    transforms.Normalize([0.485, 0.456, 0.406], [0.229, 0.224, 0.225])\n",
    "])"
   ]
  },
  {
   "cell_type": "code",
   "execution_count": 21,
   "id": "03db70a7-2e36-4d7b-a2da-bb455238d027",
   "metadata": {},
   "outputs": [],
   "source": [
    "dataset1 = datasets.ImageFolder(\"thermal\", transform=transform1)"
   ]
  },
  {
   "cell_type": "code",
   "execution_count": 6,
   "id": "002cba48-0b63-4d20-b4fe-fe6677581236",
   "metadata": {},
   "outputs": [
    {
     "name": "stdout",
     "output_type": "stream",
     "text": [
      "Counter({0: 220, 3: 142, 2: 93, 5: 80, 1: 67, 4: 34})\n"
     ]
    }
   ],
   "source": [
    "# Assuming dataset is a folder-based ImageFolder dataset\n",
    "dataset = datasets.ImageFolder(\"thermal\", transform=transform)\n",
    "\n",
    "# Count occurrences of each class\n",
    "class_counts = Counter([label for _, label in dataset.samples])\n",
    "max_count = max(class_counts.values())  # Find the class with the highest count\n",
    "\n",
    "print(class_counts)  # Print class distribution\n"
   ]
  },
  {
   "cell_type": "code",
   "execution_count": 7,
   "id": "0c1e3cfc-3507-4817-a7fd-7b40011b5043",
   "metadata": {},
   "outputs": [],
   "source": [
    "# Split dataset into 60% Train, 20% Validation, 20% Test\n",
    "train_size = int(0.6 * len(dataset))\n",
    "val_size = int(0.2 * len(dataset))\n",
    "test_size = len(dataset) - train_size - val_size  # Remaining samples go to test\n",
    "\n",
    "train_data, val_data, test_data = random_split(dataset, [train_size, val_size, test_size])"
   ]
  },
  {
   "cell_type": "code",
   "execution_count": 22,
   "id": "66d9e5b0-5405-488c-a3cb-989f37ac7420",
   "metadata": {},
   "outputs": [],
   "source": [
    "train_data1, val_data1, test_data1 = random_split(dataset1, [train_size, val_size, test_size]) # for InceptionV3"
   ]
  },
  {
   "cell_type": "code",
   "execution_count": 8,
   "id": "cdb09a90-cd80-476e-b0c7-20834eb3f503",
   "metadata": {},
   "outputs": [],
   "source": [
    "# Create DataLoaders\n",
    "train_loader = DataLoader(train_data, batch_size=32, shuffle=True, num_workers=0)\n",
    "val_loader = DataLoader(val_data, batch_size=32, shuffle=False, num_workers=0)\n",
    "test_loader = DataLoader(test_data, batch_size=32, shuffle=False, num_workers=0)"
   ]
  },
  {
   "cell_type": "code",
   "execution_count": 23,
   "id": "b5346d05-0eea-4f17-a380-e02e4529ff71",
   "metadata": {},
   "outputs": [],
   "source": [
    "# Create DataLoaders\n",
    "train_loader1 = DataLoader(train_data1, batch_size=32, shuffle=True, num_workers=0)\n",
    "val_loader1 = DataLoader(val_data1, batch_size=32, shuffle=False, num_workers=0)\n",
    "test_loader1 = DataLoader(test_data1, batch_size=32, shuffle=False, num_workers=0)"
   ]
  },
  {
   "cell_type": "markdown",
   "id": "645b545a-97e6-4afe-babb-7e1fb4cff8c0",
   "metadata": {
    "jp-MarkdownHeadingCollapsed": true
   },
   "source": [
    "## Demo 1"
   ]
  },
  {
   "cell_type": "code",
   "execution_count": 14,
   "id": "2cec2650-d40b-4be7-98fe-b7162ca15d31",
   "metadata": {},
   "outputs": [],
   "source": [
    "# import torch\n",
    "# import torch.nn as nn\n",
    "# import torch.optim as optim\n",
    "# import torchvision.models as models\n",
    "# from tqdm import tqdm\n",
    "# from sklearn.metrics import classification_report, confusion_matrix\n",
    "\n",
    "# def train_model1(model_name, train_loader, val_loader, num_classes=6, num_epochs=20, lr=0.0001):\n",
    "#     device = torch.device(\"cuda\" if torch.cuda.is_available() else \"cpu\")\n",
    "#     print(f\"\\nUsing device: {device}\\n\")\n",
    "\n",
    "#     model_dict = {\n",
    "#         \"ResNet50\": models.resnet50,\n",
    "#         \"ResNet101\": models.resnet101,\n",
    "#         \"EfficientNetV2\": models.efficientnet_v2_s,\n",
    "#         \"ViT\": models.vit_b_16,\n",
    "#         \"GoogleNet\": models.googlenet,\n",
    "#         \"InceptionV3\": models.inception_v3,\n",
    "#         \"VGG16\": models.vgg16,\n",
    "#         \"AlexNet\": models.alexnet,\n",
    "#         \"DenseNet\": models.densenet121,\n",
    "#         \"MobileNetV2\": models.mobilenet_v2,\n",
    "#         \"RCNN\": models.detection.fasterrcnn_resnet50_fpn\n",
    "#     }\n",
    "\n",
    "#     if model_name not in model_dict:\n",
    "#         raise ValueError(f\"Model '{model_name}' not supported!\")\n",
    "\n",
    "#     model = model_dict[model_name](pretrained=True)\n",
    "\n",
    "#     if model_name in [\"ResNet50\", \"ResNet101\", \"GoogleNet\", \"InceptionV3\"]:\n",
    "#         model.fc = nn.Linear(model.fc.in_features, num_classes)\n",
    "#     elif \"efficientnet\" in model_name.lower():\n",
    "#         model.classifier[1] = nn.Linear(model.classifier[1].in_features, num_classes)\n",
    "#     elif \"vit\" in model_name.lower():\n",
    "#         model.heads.head = nn.Linear(model.heads.head.in_features, num_classes)\n",
    "#     elif model_name == \"VGG16\" or model_name == \"AlexNet\":\n",
    "#         model.classifier[6] = nn.Linear(model.classifier[6].in_features, num_classes)\n",
    "#     elif model_name == \"DenseNet\":\n",
    "#         model.classifier = nn.Linear(model.classifier.in_features, num_classes)\n",
    "#     elif model_name == \"MobileNetV2\":\n",
    "#         model.classifier[1] = nn.Linear(model.classifier[1].in_features, num_classes)\n",
    "#     elif model_name == \"RCNN\":\n",
    "#         in_features = model.roi_heads.box_predictor.cls_score.in_features\n",
    "#         model.roi_heads.box_predictor = models.detection.faster_rcnn.FastRCNNPredictor(in_features, num_classes)\n",
    "    \n",
    "#     model = model.to(device)\n",
    "#     criterion = nn.CrossEntropyLoss()\n",
    "#     optimizer = optim.Adam(model.parameters(), lr=lr)\n",
    "\n",
    "#     print(f\"\\nTraining {model_name} for {num_epochs} epochs...\\n\")\n",
    "#     for epoch in range(num_epochs):\n",
    "#         model.train()\n",
    "#         running_loss, correct, total = 0.0, 0, 0\n",
    "#         progress_bar = tqdm(train_loader, desc=f\"Epoch {epoch+1}/{num_epochs}\", leave=True)\n",
    "\n",
    "#         for images, labels in progress_bar:\n",
    "#             images, labels = images.to(device), labels.to(device)\n",
    "#             optimizer.zero_grad()\n",
    "#             outputs = model(images)\n",
    "#             loss = criterion(outputs, labels)\n",
    "#             loss.backward()\n",
    "#             optimizer.step()\n",
    "\n",
    "#             running_loss += loss.item()\n",
    "#             _, preds = torch.max(outputs, 1)\n",
    "#             correct += (preds == labels).sum().item()\n",
    "#             total += labels.size(0)\n",
    "\n",
    "#             progress_bar.set_postfix(loss=running_loss / len(train_loader), accuracy=100 * correct / total)\n",
    "\n",
    "#         print(f\"Epoch {epoch+1}: Loss = {running_loss / len(train_loader):.4f}, Accuracy = {100 * correct / total:.2f}%\")\n",
    "\n",
    "#     def evaluate_model(loader, dataset_type=\"Validation\"):\n",
    "#         model.eval()\n",
    "#         correct, total, y_true, y_pred = 0, 0, [], []\n",
    "#         with torch.no_grad():\n",
    "#             for images, labels in tqdm(loader, desc=f\"🔍 Evaluating {dataset_type} Set\", leave=True):\n",
    "#                 images, labels = images.to(device), labels.to(device)\n",
    "#                 outputs = model(images)\n",
    "#                 _, preds = torch.max(outputs, 1)\n",
    "#                 y_true.extend(labels.cpu().numpy())\n",
    "#                 y_pred.extend(preds.cpu().numpy())\n",
    "#                 correct += (preds == labels).sum().item()\n",
    "#                 total += labels.size(0)\n",
    "#         accuracy = 100 * correct / total\n",
    "#         print(f\"\\n{dataset_type} Set Accuracy: {accuracy:.2f}%\")\n",
    "#         print(classification_report(y_true, y_pred))\n",
    "#         print(confusion_matrix(y_true, y_pred))\n",
    "\n",
    "#     evaluate_model(val_loader, \"Validation\")\n",
    "#     evaluate_model(test_loader, \"Testing\")\n",
    "#     return model\n"
   ]
  },
  {
   "cell_type": "code",
   "execution_count": 15,
   "id": "1c067d7d-7425-4450-ab69-202899710a9e",
   "metadata": {},
   "outputs": [
    {
     "name": "stdout",
     "output_type": "stream",
     "text": [
      "\n",
      "Using device: cuda\n",
      "\n",
      "\n",
      "Training MobileNetV2 for 20 epochs...\n",
      "\n"
     ]
    },
    {
     "name": "stderr",
     "output_type": "stream",
     "text": [
      "Epoch 1/20:   0%|                                                                               | 0/12 [02:00<?, ?it/s]\n"
     ]
    },
    {
     "ename": "KeyboardInterrupt",
     "evalue": "",
     "output_type": "error",
     "traceback": [
      "\u001b[1;31m---------------------------------------------------------------------------\u001b[0m",
      "\u001b[1;31mKeyboardInterrupt\u001b[0m                         Traceback (most recent call last)",
      "Cell \u001b[1;32mIn[15], line 1\u001b[0m\n\u001b[1;32m----> 1\u001b[0m trained_model \u001b[38;5;241m=\u001b[39m train_model1(\u001b[38;5;124m\"\u001b[39m\u001b[38;5;124mMobileNetV2\u001b[39m\u001b[38;5;124m\"\u001b[39m, train_loader, val_loader, num_classes\u001b[38;5;241m=\u001b[39m\u001b[38;5;241m6\u001b[39m, num_epochs\u001b[38;5;241m=\u001b[39m\u001b[38;5;241m20\u001b[39m, lr\u001b[38;5;241m=\u001b[39m\u001b[38;5;241m0.0001\u001b[39m)\n",
      "Cell \u001b[1;32mIn[14], line 60\u001b[0m, in \u001b[0;36mtrain_model1\u001b[1;34m(model_name, train_loader, val_loader, num_classes, num_epochs, lr)\u001b[0m\n\u001b[0;32m     58\u001b[0m images, labels \u001b[38;5;241m=\u001b[39m images\u001b[38;5;241m.\u001b[39mto(device), labels\u001b[38;5;241m.\u001b[39mto(device)\n\u001b[0;32m     59\u001b[0m optimizer\u001b[38;5;241m.\u001b[39mzero_grad()\n\u001b[1;32m---> 60\u001b[0m outputs \u001b[38;5;241m=\u001b[39m model(images)\n\u001b[0;32m     61\u001b[0m loss \u001b[38;5;241m=\u001b[39m criterion(outputs, labels)\n\u001b[0;32m     62\u001b[0m loss\u001b[38;5;241m.\u001b[39mbackward()\n",
      "File \u001b[1;32m~\\AppData\\Roaming\\Python\\Python312\\site-packages\\torch\\nn\\modules\\module.py:1736\u001b[0m, in \u001b[0;36mModule._wrapped_call_impl\u001b[1;34m(self, *args, **kwargs)\u001b[0m\n\u001b[0;32m   1734\u001b[0m     \u001b[38;5;28;01mreturn\u001b[39;00m \u001b[38;5;28mself\u001b[39m\u001b[38;5;241m.\u001b[39m_compiled_call_impl(\u001b[38;5;241m*\u001b[39margs, \u001b[38;5;241m*\u001b[39m\u001b[38;5;241m*\u001b[39mkwargs)  \u001b[38;5;66;03m# type: ignore[misc]\u001b[39;00m\n\u001b[0;32m   1735\u001b[0m \u001b[38;5;28;01melse\u001b[39;00m:\n\u001b[1;32m-> 1736\u001b[0m     \u001b[38;5;28;01mreturn\u001b[39;00m \u001b[38;5;28mself\u001b[39m\u001b[38;5;241m.\u001b[39m_call_impl(\u001b[38;5;241m*\u001b[39margs, \u001b[38;5;241m*\u001b[39m\u001b[38;5;241m*\u001b[39mkwargs)\n",
      "File \u001b[1;32m~\\AppData\\Roaming\\Python\\Python312\\site-packages\\torch\\nn\\modules\\module.py:1747\u001b[0m, in \u001b[0;36mModule._call_impl\u001b[1;34m(self, *args, **kwargs)\u001b[0m\n\u001b[0;32m   1742\u001b[0m \u001b[38;5;66;03m# If we don't have any hooks, we want to skip the rest of the logic in\u001b[39;00m\n\u001b[0;32m   1743\u001b[0m \u001b[38;5;66;03m# this function, and just call forward.\u001b[39;00m\n\u001b[0;32m   1744\u001b[0m \u001b[38;5;28;01mif\u001b[39;00m \u001b[38;5;129;01mnot\u001b[39;00m (\u001b[38;5;28mself\u001b[39m\u001b[38;5;241m.\u001b[39m_backward_hooks \u001b[38;5;129;01mor\u001b[39;00m \u001b[38;5;28mself\u001b[39m\u001b[38;5;241m.\u001b[39m_backward_pre_hooks \u001b[38;5;129;01mor\u001b[39;00m \u001b[38;5;28mself\u001b[39m\u001b[38;5;241m.\u001b[39m_forward_hooks \u001b[38;5;129;01mor\u001b[39;00m \u001b[38;5;28mself\u001b[39m\u001b[38;5;241m.\u001b[39m_forward_pre_hooks\n\u001b[0;32m   1745\u001b[0m         \u001b[38;5;129;01mor\u001b[39;00m _global_backward_pre_hooks \u001b[38;5;129;01mor\u001b[39;00m _global_backward_hooks\n\u001b[0;32m   1746\u001b[0m         \u001b[38;5;129;01mor\u001b[39;00m _global_forward_hooks \u001b[38;5;129;01mor\u001b[39;00m _global_forward_pre_hooks):\n\u001b[1;32m-> 1747\u001b[0m     \u001b[38;5;28;01mreturn\u001b[39;00m forward_call(\u001b[38;5;241m*\u001b[39margs, \u001b[38;5;241m*\u001b[39m\u001b[38;5;241m*\u001b[39mkwargs)\n\u001b[0;32m   1749\u001b[0m result \u001b[38;5;241m=\u001b[39m \u001b[38;5;28;01mNone\u001b[39;00m\n\u001b[0;32m   1750\u001b[0m called_always_called_hooks \u001b[38;5;241m=\u001b[39m \u001b[38;5;28mset\u001b[39m()\n",
      "File \u001b[1;32m~\\AppData\\Roaming\\Python\\Python312\\site-packages\\torchvision\\models\\mobilenetv2.py:174\u001b[0m, in \u001b[0;36mMobileNetV2.forward\u001b[1;34m(self, x)\u001b[0m\n\u001b[0;32m    173\u001b[0m \u001b[38;5;28;01mdef\u001b[39;00m \u001b[38;5;21mforward\u001b[39m(\u001b[38;5;28mself\u001b[39m, x: Tensor) \u001b[38;5;241m-\u001b[39m\u001b[38;5;241m>\u001b[39m Tensor:\n\u001b[1;32m--> 174\u001b[0m     \u001b[38;5;28;01mreturn\u001b[39;00m \u001b[38;5;28mself\u001b[39m\u001b[38;5;241m.\u001b[39m_forward_impl(x)\n",
      "File \u001b[1;32m~\\AppData\\Roaming\\Python\\Python312\\site-packages\\torchvision\\models\\mobilenetv2.py:166\u001b[0m, in \u001b[0;36mMobileNetV2._forward_impl\u001b[1;34m(self, x)\u001b[0m\n\u001b[0;32m    163\u001b[0m \u001b[38;5;28;01mdef\u001b[39;00m \u001b[38;5;21m_forward_impl\u001b[39m(\u001b[38;5;28mself\u001b[39m, x: Tensor) \u001b[38;5;241m-\u001b[39m\u001b[38;5;241m>\u001b[39m Tensor:\n\u001b[0;32m    164\u001b[0m     \u001b[38;5;66;03m# This exists since TorchScript doesn't support inheritance, so the superclass method\u001b[39;00m\n\u001b[0;32m    165\u001b[0m     \u001b[38;5;66;03m# (this one) needs to have a name other than `forward` that can be accessed in a subclass\u001b[39;00m\n\u001b[1;32m--> 166\u001b[0m     x \u001b[38;5;241m=\u001b[39m \u001b[38;5;28mself\u001b[39m\u001b[38;5;241m.\u001b[39mfeatures(x)\n\u001b[0;32m    167\u001b[0m     \u001b[38;5;66;03m# Cannot use \"squeeze\" as batch-size can be 1\u001b[39;00m\n\u001b[0;32m    168\u001b[0m     x \u001b[38;5;241m=\u001b[39m nn\u001b[38;5;241m.\u001b[39mfunctional\u001b[38;5;241m.\u001b[39madaptive_avg_pool2d(x, (\u001b[38;5;241m1\u001b[39m, \u001b[38;5;241m1\u001b[39m))\n",
      "File \u001b[1;32m~\\AppData\\Roaming\\Python\\Python312\\site-packages\\torch\\nn\\modules\\module.py:1736\u001b[0m, in \u001b[0;36mModule._wrapped_call_impl\u001b[1;34m(self, *args, **kwargs)\u001b[0m\n\u001b[0;32m   1734\u001b[0m     \u001b[38;5;28;01mreturn\u001b[39;00m \u001b[38;5;28mself\u001b[39m\u001b[38;5;241m.\u001b[39m_compiled_call_impl(\u001b[38;5;241m*\u001b[39margs, \u001b[38;5;241m*\u001b[39m\u001b[38;5;241m*\u001b[39mkwargs)  \u001b[38;5;66;03m# type: ignore[misc]\u001b[39;00m\n\u001b[0;32m   1735\u001b[0m \u001b[38;5;28;01melse\u001b[39;00m:\n\u001b[1;32m-> 1736\u001b[0m     \u001b[38;5;28;01mreturn\u001b[39;00m \u001b[38;5;28mself\u001b[39m\u001b[38;5;241m.\u001b[39m_call_impl(\u001b[38;5;241m*\u001b[39margs, \u001b[38;5;241m*\u001b[39m\u001b[38;5;241m*\u001b[39mkwargs)\n",
      "File \u001b[1;32m~\\AppData\\Roaming\\Python\\Python312\\site-packages\\torch\\nn\\modules\\module.py:1747\u001b[0m, in \u001b[0;36mModule._call_impl\u001b[1;34m(self, *args, **kwargs)\u001b[0m\n\u001b[0;32m   1742\u001b[0m \u001b[38;5;66;03m# If we don't have any hooks, we want to skip the rest of the logic in\u001b[39;00m\n\u001b[0;32m   1743\u001b[0m \u001b[38;5;66;03m# this function, and just call forward.\u001b[39;00m\n\u001b[0;32m   1744\u001b[0m \u001b[38;5;28;01mif\u001b[39;00m \u001b[38;5;129;01mnot\u001b[39;00m (\u001b[38;5;28mself\u001b[39m\u001b[38;5;241m.\u001b[39m_backward_hooks \u001b[38;5;129;01mor\u001b[39;00m \u001b[38;5;28mself\u001b[39m\u001b[38;5;241m.\u001b[39m_backward_pre_hooks \u001b[38;5;129;01mor\u001b[39;00m \u001b[38;5;28mself\u001b[39m\u001b[38;5;241m.\u001b[39m_forward_hooks \u001b[38;5;129;01mor\u001b[39;00m \u001b[38;5;28mself\u001b[39m\u001b[38;5;241m.\u001b[39m_forward_pre_hooks\n\u001b[0;32m   1745\u001b[0m         \u001b[38;5;129;01mor\u001b[39;00m _global_backward_pre_hooks \u001b[38;5;129;01mor\u001b[39;00m _global_backward_hooks\n\u001b[0;32m   1746\u001b[0m         \u001b[38;5;129;01mor\u001b[39;00m _global_forward_hooks \u001b[38;5;129;01mor\u001b[39;00m _global_forward_pre_hooks):\n\u001b[1;32m-> 1747\u001b[0m     \u001b[38;5;28;01mreturn\u001b[39;00m forward_call(\u001b[38;5;241m*\u001b[39margs, \u001b[38;5;241m*\u001b[39m\u001b[38;5;241m*\u001b[39mkwargs)\n\u001b[0;32m   1749\u001b[0m result \u001b[38;5;241m=\u001b[39m \u001b[38;5;28;01mNone\u001b[39;00m\n\u001b[0;32m   1750\u001b[0m called_always_called_hooks \u001b[38;5;241m=\u001b[39m \u001b[38;5;28mset\u001b[39m()\n",
      "File \u001b[1;32m~\\AppData\\Roaming\\Python\\Python312\\site-packages\\torch\\nn\\modules\\container.py:250\u001b[0m, in \u001b[0;36mSequential.forward\u001b[1;34m(self, input)\u001b[0m\n\u001b[0;32m    248\u001b[0m \u001b[38;5;28;01mdef\u001b[39;00m \u001b[38;5;21mforward\u001b[39m(\u001b[38;5;28mself\u001b[39m, \u001b[38;5;28minput\u001b[39m):\n\u001b[0;32m    249\u001b[0m     \u001b[38;5;28;01mfor\u001b[39;00m module \u001b[38;5;129;01min\u001b[39;00m \u001b[38;5;28mself\u001b[39m:\n\u001b[1;32m--> 250\u001b[0m         \u001b[38;5;28minput\u001b[39m \u001b[38;5;241m=\u001b[39m module(\u001b[38;5;28minput\u001b[39m)\n\u001b[0;32m    251\u001b[0m     \u001b[38;5;28;01mreturn\u001b[39;00m \u001b[38;5;28minput\u001b[39m\n",
      "File \u001b[1;32m~\\AppData\\Roaming\\Python\\Python312\\site-packages\\torch\\nn\\modules\\module.py:1736\u001b[0m, in \u001b[0;36mModule._wrapped_call_impl\u001b[1;34m(self, *args, **kwargs)\u001b[0m\n\u001b[0;32m   1734\u001b[0m     \u001b[38;5;28;01mreturn\u001b[39;00m \u001b[38;5;28mself\u001b[39m\u001b[38;5;241m.\u001b[39m_compiled_call_impl(\u001b[38;5;241m*\u001b[39margs, \u001b[38;5;241m*\u001b[39m\u001b[38;5;241m*\u001b[39mkwargs)  \u001b[38;5;66;03m# type: ignore[misc]\u001b[39;00m\n\u001b[0;32m   1735\u001b[0m \u001b[38;5;28;01melse\u001b[39;00m:\n\u001b[1;32m-> 1736\u001b[0m     \u001b[38;5;28;01mreturn\u001b[39;00m \u001b[38;5;28mself\u001b[39m\u001b[38;5;241m.\u001b[39m_call_impl(\u001b[38;5;241m*\u001b[39margs, \u001b[38;5;241m*\u001b[39m\u001b[38;5;241m*\u001b[39mkwargs)\n",
      "File \u001b[1;32m~\\AppData\\Roaming\\Python\\Python312\\site-packages\\torch\\nn\\modules\\module.py:1747\u001b[0m, in \u001b[0;36mModule._call_impl\u001b[1;34m(self, *args, **kwargs)\u001b[0m\n\u001b[0;32m   1742\u001b[0m \u001b[38;5;66;03m# If we don't have any hooks, we want to skip the rest of the logic in\u001b[39;00m\n\u001b[0;32m   1743\u001b[0m \u001b[38;5;66;03m# this function, and just call forward.\u001b[39;00m\n\u001b[0;32m   1744\u001b[0m \u001b[38;5;28;01mif\u001b[39;00m \u001b[38;5;129;01mnot\u001b[39;00m (\u001b[38;5;28mself\u001b[39m\u001b[38;5;241m.\u001b[39m_backward_hooks \u001b[38;5;129;01mor\u001b[39;00m \u001b[38;5;28mself\u001b[39m\u001b[38;5;241m.\u001b[39m_backward_pre_hooks \u001b[38;5;129;01mor\u001b[39;00m \u001b[38;5;28mself\u001b[39m\u001b[38;5;241m.\u001b[39m_forward_hooks \u001b[38;5;129;01mor\u001b[39;00m \u001b[38;5;28mself\u001b[39m\u001b[38;5;241m.\u001b[39m_forward_pre_hooks\n\u001b[0;32m   1745\u001b[0m         \u001b[38;5;129;01mor\u001b[39;00m _global_backward_pre_hooks \u001b[38;5;129;01mor\u001b[39;00m _global_backward_hooks\n\u001b[0;32m   1746\u001b[0m         \u001b[38;5;129;01mor\u001b[39;00m _global_forward_hooks \u001b[38;5;129;01mor\u001b[39;00m _global_forward_pre_hooks):\n\u001b[1;32m-> 1747\u001b[0m     \u001b[38;5;28;01mreturn\u001b[39;00m forward_call(\u001b[38;5;241m*\u001b[39margs, \u001b[38;5;241m*\u001b[39m\u001b[38;5;241m*\u001b[39mkwargs)\n\u001b[0;32m   1749\u001b[0m result \u001b[38;5;241m=\u001b[39m \u001b[38;5;28;01mNone\u001b[39;00m\n\u001b[0;32m   1750\u001b[0m called_always_called_hooks \u001b[38;5;241m=\u001b[39m \u001b[38;5;28mset\u001b[39m()\n",
      "File \u001b[1;32m~\\AppData\\Roaming\\Python\\Python312\\site-packages\\torch\\nn\\modules\\container.py:250\u001b[0m, in \u001b[0;36mSequential.forward\u001b[1;34m(self, input)\u001b[0m\n\u001b[0;32m    248\u001b[0m \u001b[38;5;28;01mdef\u001b[39;00m \u001b[38;5;21mforward\u001b[39m(\u001b[38;5;28mself\u001b[39m, \u001b[38;5;28minput\u001b[39m):\n\u001b[0;32m    249\u001b[0m     \u001b[38;5;28;01mfor\u001b[39;00m module \u001b[38;5;129;01min\u001b[39;00m \u001b[38;5;28mself\u001b[39m:\n\u001b[1;32m--> 250\u001b[0m         \u001b[38;5;28minput\u001b[39m \u001b[38;5;241m=\u001b[39m module(\u001b[38;5;28minput\u001b[39m)\n\u001b[0;32m    251\u001b[0m     \u001b[38;5;28;01mreturn\u001b[39;00m \u001b[38;5;28minput\u001b[39m\n",
      "File \u001b[1;32m~\\AppData\\Roaming\\Python\\Python312\\site-packages\\torch\\nn\\modules\\module.py:1736\u001b[0m, in \u001b[0;36mModule._wrapped_call_impl\u001b[1;34m(self, *args, **kwargs)\u001b[0m\n\u001b[0;32m   1734\u001b[0m     \u001b[38;5;28;01mreturn\u001b[39;00m \u001b[38;5;28mself\u001b[39m\u001b[38;5;241m.\u001b[39m_compiled_call_impl(\u001b[38;5;241m*\u001b[39margs, \u001b[38;5;241m*\u001b[39m\u001b[38;5;241m*\u001b[39mkwargs)  \u001b[38;5;66;03m# type: ignore[misc]\u001b[39;00m\n\u001b[0;32m   1735\u001b[0m \u001b[38;5;28;01melse\u001b[39;00m:\n\u001b[1;32m-> 1736\u001b[0m     \u001b[38;5;28;01mreturn\u001b[39;00m \u001b[38;5;28mself\u001b[39m\u001b[38;5;241m.\u001b[39m_call_impl(\u001b[38;5;241m*\u001b[39margs, \u001b[38;5;241m*\u001b[39m\u001b[38;5;241m*\u001b[39mkwargs)\n",
      "File \u001b[1;32m~\\AppData\\Roaming\\Python\\Python312\\site-packages\\torch\\nn\\modules\\module.py:1747\u001b[0m, in \u001b[0;36mModule._call_impl\u001b[1;34m(self, *args, **kwargs)\u001b[0m\n\u001b[0;32m   1742\u001b[0m \u001b[38;5;66;03m# If we don't have any hooks, we want to skip the rest of the logic in\u001b[39;00m\n\u001b[0;32m   1743\u001b[0m \u001b[38;5;66;03m# this function, and just call forward.\u001b[39;00m\n\u001b[0;32m   1744\u001b[0m \u001b[38;5;28;01mif\u001b[39;00m \u001b[38;5;129;01mnot\u001b[39;00m (\u001b[38;5;28mself\u001b[39m\u001b[38;5;241m.\u001b[39m_backward_hooks \u001b[38;5;129;01mor\u001b[39;00m \u001b[38;5;28mself\u001b[39m\u001b[38;5;241m.\u001b[39m_backward_pre_hooks \u001b[38;5;129;01mor\u001b[39;00m \u001b[38;5;28mself\u001b[39m\u001b[38;5;241m.\u001b[39m_forward_hooks \u001b[38;5;129;01mor\u001b[39;00m \u001b[38;5;28mself\u001b[39m\u001b[38;5;241m.\u001b[39m_forward_pre_hooks\n\u001b[0;32m   1745\u001b[0m         \u001b[38;5;129;01mor\u001b[39;00m _global_backward_pre_hooks \u001b[38;5;129;01mor\u001b[39;00m _global_backward_hooks\n\u001b[0;32m   1746\u001b[0m         \u001b[38;5;129;01mor\u001b[39;00m _global_forward_hooks \u001b[38;5;129;01mor\u001b[39;00m _global_forward_pre_hooks):\n\u001b[1;32m-> 1747\u001b[0m     \u001b[38;5;28;01mreturn\u001b[39;00m forward_call(\u001b[38;5;241m*\u001b[39margs, \u001b[38;5;241m*\u001b[39m\u001b[38;5;241m*\u001b[39mkwargs)\n\u001b[0;32m   1749\u001b[0m result \u001b[38;5;241m=\u001b[39m \u001b[38;5;28;01mNone\u001b[39;00m\n\u001b[0;32m   1750\u001b[0m called_always_called_hooks \u001b[38;5;241m=\u001b[39m \u001b[38;5;28mset\u001b[39m()\n",
      "File \u001b[1;32m~\\AppData\\Roaming\\Python\\Python312\\site-packages\\torch\\nn\\modules\\activation.py:269\u001b[0m, in \u001b[0;36mHardtanh.forward\u001b[1;34m(self, input)\u001b[0m\n\u001b[0;32m    268\u001b[0m \u001b[38;5;28;01mdef\u001b[39;00m \u001b[38;5;21mforward\u001b[39m(\u001b[38;5;28mself\u001b[39m, \u001b[38;5;28minput\u001b[39m: Tensor) \u001b[38;5;241m-\u001b[39m\u001b[38;5;241m>\u001b[39m Tensor:\n\u001b[1;32m--> 269\u001b[0m     \u001b[38;5;28;01mreturn\u001b[39;00m F\u001b[38;5;241m.\u001b[39mhardtanh(\u001b[38;5;28minput\u001b[39m, \u001b[38;5;28mself\u001b[39m\u001b[38;5;241m.\u001b[39mmin_val, \u001b[38;5;28mself\u001b[39m\u001b[38;5;241m.\u001b[39mmax_val, \u001b[38;5;28mself\u001b[39m\u001b[38;5;241m.\u001b[39minplace)\n",
      "File \u001b[1;32m~\\AppData\\Roaming\\Python\\Python312\\site-packages\\torch\\nn\\functional.py:1764\u001b[0m, in \u001b[0;36mhardtanh\u001b[1;34m(input, min_val, max_val, inplace)\u001b[0m\n\u001b[0;32m   1762\u001b[0m     \u001b[38;5;28;01mraise\u001b[39;00m \u001b[38;5;167;01mValueError\u001b[39;00m(\u001b[38;5;124m\"\u001b[39m\u001b[38;5;124mmin_val cannot be greater than max_val\u001b[39m\u001b[38;5;124m\"\u001b[39m)\n\u001b[0;32m   1763\u001b[0m \u001b[38;5;28;01mif\u001b[39;00m inplace:\n\u001b[1;32m-> 1764\u001b[0m     result \u001b[38;5;241m=\u001b[39m torch\u001b[38;5;241m.\u001b[39m_C\u001b[38;5;241m.\u001b[39m_nn\u001b[38;5;241m.\u001b[39mhardtanh_(\u001b[38;5;28minput\u001b[39m, min_val, max_val)\n\u001b[0;32m   1765\u001b[0m \u001b[38;5;28;01melse\u001b[39;00m:\n\u001b[0;32m   1766\u001b[0m     result \u001b[38;5;241m=\u001b[39m torch\u001b[38;5;241m.\u001b[39m_C\u001b[38;5;241m.\u001b[39m_nn\u001b[38;5;241m.\u001b[39mhardtanh(\u001b[38;5;28minput\u001b[39m, min_val, max_val)\n",
      "\u001b[1;31mKeyboardInterrupt\u001b[0m: "
     ]
    }
   ],
   "source": [
    "trained_model = train_model1(\"MobileNetV2\", train_loader, val_loader, num_classes=6, num_epochs=20, lr=0.0001)"
   ]
  },
  {
   "cell_type": "markdown",
   "id": "70e31f8b-5cd8-4f51-92ef-e18a1cff3e77",
   "metadata": {},
   "source": [
    "## CODE 1"
   ]
  },
  {
   "cell_type": "markdown",
   "id": "e7df47f4-3964-4a9b-ab6a-5178ab5d2f1e",
   "metadata": {
    "jp-MarkdownHeadingCollapsed": true
   },
   "source": [
    "### 1"
   ]
  },
  {
   "cell_type": "code",
   "execution_count": 28,
   "id": "5eaa8eb4-87ac-4163-a31c-d5dc8d362796",
   "metadata": {},
   "outputs": [],
   "source": [
    "import torch\n",
    "import torch.nn as nn\n",
    "import torch.optim as optim\n",
    "import torchvision.models as models\n",
    "from tqdm import tqdm\n",
    "import numpy as np\n",
    "import matplotlib.pyplot as plt\n",
    "from sklearn.metrics import classification_report, confusion_matrix, precision_recall_curve\n",
    "\n",
    "def train_model(model_name, train_loader, val_loader, num_classes=6, num_epochs=20, lr=0.0001):\n",
    "    # Select GPU device\n",
    "    if not torch.cuda.is_available():\n",
    "        raise RuntimeError(\"GPU not available. This code requires a GPU to run.\")\n",
    "    device = torch.device(\"cuda\")\n",
    "    gpu_name = torch.cuda.get_device_name(device)\n",
    "    print(f\"\\nUsing device: {device} ({gpu_name})\\n\")\n",
    "\n",
    "    # Load the requested model\n",
    "    model_dict = {\n",
    "        \"ResNet50\": models.resnet50,\n",
    "        \"ResNet101\": models.resnet101,\n",
    "        \"EfficientNetV2\": models.efficientnet_v2_s,\n",
    "        \"ViT\": models.vit_b_16,\n",
    "        \"GoogleNet\": models.googlenet,\n",
    "        \"VGG16\": models.vgg16,\n",
    "        \"AlexNet\": models.alexnet\n",
    "    }\n",
    "\n",
    "    if model_name not in model_dict:\n",
    "        raise ValueError(f\"Model '{model_name}' not supported!\")\n",
    "\n",
    "    model = model_dict[model_name](pretrained=True)\n",
    "\n",
    "    # Adjust the classifier for 6 classes\n",
    "    if \"resnet\" in model_name.lower() or \"googlenet\" in model_name.lower():\n",
    "        model.fc = nn.Linear(model.fc.in_features, num_classes)\n",
    "    elif \"efficientnet\" in model_name.lower():\n",
    "        model.classifier[1] = nn.Linear(model.classifier[1].in_features, num_classes)\n",
    "    elif \"vit\" in model_name.lower():\n",
    "        model.heads.head = nn.Linear(model.heads.head.in_features, num_classes)\n",
    "    elif \"vgg\" in model_name.lower() or \"alexnet\" in model_name.lower():\n",
    "        model.classifier[6] = nn.Linear(model.classifier[6].in_features, num_classes)\n",
    "\n",
    "    # Move model to device\n",
    "    model = model.to(device)\n",
    "\n",
    "    # Define loss function and optimizer\n",
    "    criterion = nn.CrossEntropyLoss()\n",
    "    optimizer = optim.Adam(model.parameters(), lr=lr)\n",
    "\n",
    "    # Training Loop with tqdm\n",
    "    print(f\"\\nTraining {model_name} for {num_epochs} epochs...\\n\")\n",
    "    for epoch in range(num_epochs):\n",
    "        model.train()\n",
    "        running_loss, correct, total = 0.0, 0, 0\n",
    "        progress_bar = tqdm(train_loader, desc=f\"Epoch {epoch+1}/{num_epochs}\", leave=True)\n",
    "\n",
    "        for images, labels in progress_bar:\n",
    "            images, labels = images.to(device), labels.to(device)\n",
    "            optimizer.zero_grad()\n",
    "            outputs = model(images)\n",
    "            loss = criterion(outputs, labels)\n",
    "            loss.backward()\n",
    "            optimizer.step()\n",
    "\n",
    "            running_loss += loss.item()\n",
    "            _, preds = torch.max(outputs, 1)\n",
    "            correct += (preds == labels).sum().item()\n",
    "            total += labels.size(0)\n",
    "\n",
    "            # Update tqdm progress bar\n",
    "            progress_bar.set_postfix(loss=running_loss / len(train_loader), accuracy=100 * correct / total)\n",
    "\n",
    "        print(f\"Epoch {epoch+1}: Loss = {running_loss / len(train_loader):.4f}, Accuracy = {100 * correct / total:.2f}%\")\n",
    "\n",
    "    # Evaluation Function with PR Curve\n",
    "    def evaluate_model(loader, dataset_type=\"Validation\"):\n",
    "        model.eval()\n",
    "        correct, total = 0, 0\n",
    "        y_true, y_pred, y_scores = [], [], []\n",
    "\n",
    "        with torch.no_grad():\n",
    "            for images, labels in tqdm(loader, desc=f\"🔍 Evaluating {dataset_type} Set\", leave=True):\n",
    "                images, labels = images.to(device), labels.to(device)\n",
    "                outputs = model(images)\n",
    "                _, preds = torch.max(outputs, 1)\n",
    "\n",
    "                y_true.extend(labels.cpu().numpy())\n",
    "                y_pred.extend(preds.cpu().numpy())\n",
    "                y_scores.extend(torch.softmax(outputs, dim=1).cpu().numpy())  # Get probabilities\n",
    "\n",
    "                correct += (preds == labels).sum().item()\n",
    "                total += labels.size(0)\n",
    "\n",
    "        accuracy = 100 * correct / total\n",
    "        print(f\"\\n{dataset_type} Set Accuracy: {accuracy:.2f}%\")\n",
    "        print(classification_report(y_true, y_pred))\n",
    "        print(confusion_matrix(y_true, y_pred))\n",
    "\n",
    "        # 🔹 Precision-Recall Curve Plot\n",
    "        y_true_one_hot = np.eye(num_classes)[y_true]  # Convert to one-hot encoding\n",
    "\n",
    "        plt.figure(figsize=(10, 6))\n",
    "        for class_idx in range(num_classes):\n",
    "            precision, recall, _ = precision_recall_curve(y_true_one_hot[:, class_idx], np.array(y_scores)[:, class_idx])\n",
    "            plt.plot(recall, precision, label=f'Class {class_idx}')\n",
    "\n",
    "        plt.xlabel('Recall')\n",
    "        plt.ylabel('Precision')\n",
    "        plt.title(f'Precision-Recall Curve for {dataset_type} Set')\n",
    "        plt.legend()\n",
    "        plt.grid()\n",
    "        plt.show()\n",
    "\n",
    "    # Evaluate on Validation Set\n",
    "    evaluate_model(val_loader, \"Validation\")\n",
    "    evaluate_model(test_loader, \"Testing\")\n",
    "\n",
    "    return model\n"
   ]
  },
  {
   "cell_type": "markdown",
   "id": "82b70fe8-2ee5-4fb0-8f6e-8d8153fe6d2f",
   "metadata": {
    "jp-MarkdownHeadingCollapsed": true
   },
   "source": [
    "### ResNet50"
   ]
  },
  {
   "cell_type": "code",
   "execution_count": 21,
   "id": "a9c828a1-4c92-4793-b06c-89538b8274ae",
   "metadata": {},
   "outputs": [
    {
     "name": "stdout",
     "output_type": "stream",
     "text": [
      "\n",
      "Using device: cuda (NVIDIA GeForce GTX 1650)\n",
      "\n",
      "\n",
      "Training ResNet50 for 20 epochs...\n",
      "\n"
     ]
    },
    {
     "name": "stderr",
     "output_type": "stream",
     "text": [
      "Epoch 1/20: 100%|████████████████████████████████████████████| 12/12 [00:49<00:00,  4.10s/it, accuracy=47.2, loss=1.41]\n"
     ]
    },
    {
     "name": "stdout",
     "output_type": "stream",
     "text": [
      "Epoch 1: Loss = 1.4123, Accuracy = 47.24%\n"
     ]
    },
    {
     "name": "stderr",
     "output_type": "stream",
     "text": [
      "Epoch 2/20: 100%|███████████████████████████████████████████| 12/12 [00:47<00:00,  3.99s/it, accuracy=71.4, loss=0.741]\n"
     ]
    },
    {
     "name": "stdout",
     "output_type": "stream",
     "text": [
      "Epoch 2: Loss = 0.7409, Accuracy = 71.39%\n"
     ]
    },
    {
     "name": "stderr",
     "output_type": "stream",
     "text": [
      "Epoch 3/20: 100%|███████████████████████████████████████████| 12/12 [00:47<00:00,  3.99s/it, accuracy=89.5, loss=0.362]\n"
     ]
    },
    {
     "name": "stdout",
     "output_type": "stream",
     "text": [
      "Epoch 3: Loss = 0.3620, Accuracy = 89.50%\n"
     ]
    },
    {
     "name": "stderr",
     "output_type": "stream",
     "text": [
      "Epoch 4/20: 100%|███████████████████████████████████████████| 12/12 [00:47<00:00,  3.99s/it, accuracy=94.5, loss=0.218]\n"
     ]
    },
    {
     "name": "stdout",
     "output_type": "stream",
     "text": [
      "Epoch 4: Loss = 0.2183, Accuracy = 94.49%\n"
     ]
    },
    {
     "name": "stderr",
     "output_type": "stream",
     "text": [
      "Epoch 5/20: 100%|███████████████████████████████████████████| 12/12 [00:47<00:00,  3.98s/it, accuracy=95.8, loss=0.152]\n"
     ]
    },
    {
     "name": "stdout",
     "output_type": "stream",
     "text": [
      "Epoch 5: Loss = 0.1523, Accuracy = 95.80%\n"
     ]
    },
    {
     "name": "stderr",
     "output_type": "stream",
     "text": [
      "Epoch 6/20: 100%|███████████████████████████████████████████| 12/12 [00:47<00:00,  3.98s/it, accuracy=95.3, loss=0.135]\n"
     ]
    },
    {
     "name": "stdout",
     "output_type": "stream",
     "text": [
      "Epoch 6: Loss = 0.1352, Accuracy = 95.28%\n"
     ]
    },
    {
     "name": "stderr",
     "output_type": "stream",
     "text": [
      "Epoch 7/20: 100%|███████████████████████████████████████████| 12/12 [00:47<00:00,  3.98s/it, accuracy=95.3, loss=0.134]\n"
     ]
    },
    {
     "name": "stdout",
     "output_type": "stream",
     "text": [
      "Epoch 7: Loss = 0.1336, Accuracy = 95.28%\n"
     ]
    },
    {
     "name": "stderr",
     "output_type": "stream",
     "text": [
      "Epoch 8/20: 100%|███████████████████████████████████████████| 12/12 [00:47<00:00,  3.99s/it, accuracy=97.1, loss=0.119]\n"
     ]
    },
    {
     "name": "stdout",
     "output_type": "stream",
     "text": [
      "Epoch 8: Loss = 0.1189, Accuracy = 97.11%\n"
     ]
    },
    {
     "name": "stderr",
     "output_type": "stream",
     "text": [
      "Epoch 9/20: 100%|██████████████████████████████████████████| 12/12 [00:47<00:00,  3.98s/it, accuracy=98.4, loss=0.0622]\n"
     ]
    },
    {
     "name": "stdout",
     "output_type": "stream",
     "text": [
      "Epoch 9: Loss = 0.0622, Accuracy = 98.43%\n"
     ]
    },
    {
     "name": "stderr",
     "output_type": "stream",
     "text": [
      "Epoch 10/20: 100%|█████████████████████████████████████████| 12/12 [00:47<00:00,  3.98s/it, accuracy=98.4, loss=0.0581]\n"
     ]
    },
    {
     "name": "stdout",
     "output_type": "stream",
     "text": [
      "Epoch 10: Loss = 0.0581, Accuracy = 98.43%\n"
     ]
    },
    {
     "name": "stderr",
     "output_type": "stream",
     "text": [
      "Epoch 11/20: 100%|█████████████████████████████████████████| 12/12 [00:47<00:00,  3.98s/it, accuracy=99.5, loss=0.0576]\n"
     ]
    },
    {
     "name": "stdout",
     "output_type": "stream",
     "text": [
      "Epoch 11: Loss = 0.0576, Accuracy = 99.48%\n"
     ]
    },
    {
     "name": "stderr",
     "output_type": "stream",
     "text": [
      "Epoch 12/20: 100%|█████████████████████████████████████████| 12/12 [00:47<00:00,  3.98s/it, accuracy=98.7, loss=0.0493]\n"
     ]
    },
    {
     "name": "stdout",
     "output_type": "stream",
     "text": [
      "Epoch 12: Loss = 0.0493, Accuracy = 98.69%\n"
     ]
    },
    {
     "name": "stderr",
     "output_type": "stream",
     "text": [
      "Epoch 13/20: 100%|█████████████████████████████████████████| 12/12 [00:47<00:00,  3.98s/it, accuracy=99.2, loss=0.0247]\n"
     ]
    },
    {
     "name": "stdout",
     "output_type": "stream",
     "text": [
      "Epoch 13: Loss = 0.0247, Accuracy = 99.21%\n"
     ]
    },
    {
     "name": "stderr",
     "output_type": "stream",
     "text": [
      "Epoch 14/20: 100%|█████████████████████████████████████████| 12/12 [00:47<00:00,  4.00s/it, accuracy=99.5, loss=0.0314]\n"
     ]
    },
    {
     "name": "stdout",
     "output_type": "stream",
     "text": [
      "Epoch 14: Loss = 0.0314, Accuracy = 99.48%\n"
     ]
    },
    {
     "name": "stderr",
     "output_type": "stream",
     "text": [
      "Epoch 15/20: 100%|██████████████████████████████████████████| 12/12 [00:47<00:00,  3.98s/it, accuracy=100, loss=0.0117]\n"
     ]
    },
    {
     "name": "stdout",
     "output_type": "stream",
     "text": [
      "Epoch 15: Loss = 0.0117, Accuracy = 100.00%\n"
     ]
    },
    {
     "name": "stderr",
     "output_type": "stream",
     "text": [
      "Epoch 16/20: 100%|█████████████████████████████████████████| 12/12 [00:47<00:00,  3.99s/it, accuracy=99.7, loss=0.0178]\n"
     ]
    },
    {
     "name": "stdout",
     "output_type": "stream",
     "text": [
      "Epoch 16: Loss = 0.0178, Accuracy = 99.74%\n"
     ]
    },
    {
     "name": "stderr",
     "output_type": "stream",
     "text": [
      "Epoch 17/20: 100%|█████████████████████████████████████████| 12/12 [00:47<00:00,  3.99s/it, accuracy=99.7, loss=0.0127]\n"
     ]
    },
    {
     "name": "stdout",
     "output_type": "stream",
     "text": [
      "Epoch 17: Loss = 0.0127, Accuracy = 99.74%\n"
     ]
    },
    {
     "name": "stderr",
     "output_type": "stream",
     "text": [
      "Epoch 18/20: 100%|█████████████████████████████████████████| 12/12 [00:47<00:00,  3.98s/it, accuracy=100, loss=0.00936]\n"
     ]
    },
    {
     "name": "stdout",
     "output_type": "stream",
     "text": [
      "Epoch 18: Loss = 0.0094, Accuracy = 100.00%\n"
     ]
    },
    {
     "name": "stderr",
     "output_type": "stream",
     "text": [
      "Epoch 19/20: 100%|█████████████████████████████████████████| 12/12 [00:47<00:00,  3.99s/it, accuracy=99.5, loss=0.0316]\n"
     ]
    },
    {
     "name": "stdout",
     "output_type": "stream",
     "text": [
      "Epoch 19: Loss = 0.0316, Accuracy = 99.48%\n"
     ]
    },
    {
     "name": "stderr",
     "output_type": "stream",
     "text": [
      "Epoch 20/20: 100%|█████████████████████████████████████████| 12/12 [00:47<00:00,  3.98s/it, accuracy=98.4, loss=0.0383]\n"
     ]
    },
    {
     "name": "stdout",
     "output_type": "stream",
     "text": [
      "Epoch 20: Loss = 0.0383, Accuracy = 98.43%\n"
     ]
    },
    {
     "name": "stderr",
     "output_type": "stream",
     "text": [
      "🔍 Evaluating Validation Set: 100%|██████████████████████████████████████████████████████| 4/4 [00:03<00:00,  1.06it/s]\n"
     ]
    },
    {
     "name": "stdout",
     "output_type": "stream",
     "text": [
      "\n",
      "Validation Set Accuracy: 90.55%\n",
      "              precision    recall  f1-score   support\n",
      "\n",
      "           0       0.83      0.96      0.89        45\n",
      "           1       1.00      1.00      1.00         8\n",
      "           2       0.94      0.75      0.83        20\n",
      "           3       0.97      0.91      0.94        32\n",
      "           4       1.00      1.00      1.00         5\n",
      "           5       0.94      0.88      0.91        17\n",
      "\n",
      "    accuracy                           0.91       127\n",
      "   macro avg       0.94      0.92      0.93       127\n",
      "weighted avg       0.91      0.91      0.91       127\n",
      "\n",
      "[[43  0  0  1  0  1]\n",
      " [ 0  8  0  0  0  0]\n",
      " [ 5  0 15  0  0  0]\n",
      " [ 3  0  0 29  0  0]\n",
      " [ 0  0  0  0  5  0]\n",
      " [ 1  0  1  0  0 15]]\n"
     ]
    },
    {
     "data": {
      "image/png": "[encoded data removed]",
      "text/plain": [
       "<Figure size 1000x600 with 1 Axes>"
      ]
     },
     "metadata": {},
     "output_type": "display_data"
    },
    {
     "name": "stderr",
     "output_type": "stream",
     "text": [
      "🔍 Evaluating Testing Set: 100%|█████████████████████████████████████████████████████████| 4/4 [00:03<00:00,  1.10it/s]"
     ]
    },
    {
     "name": "stdout",
     "output_type": "stream",
     "text": [
      "\n",
      "Testing Set Accuracy: 94.53%\n",
      "              precision    recall  f1-score   support\n",
      "\n",
      "           0       0.95      1.00      0.97        38\n",
      "           1       1.00      0.81      0.90        16\n",
      "           2       0.87      0.91      0.89        22\n",
      "           3       1.00      1.00      1.00        28\n",
      "           4       1.00      1.00      1.00         6\n",
      "           5       0.89      0.89      0.89        18\n",
      "\n",
      "    accuracy                           0.95       128\n",
      "   macro avg       0.95      0.94      0.94       128\n",
      "weighted avg       0.95      0.95      0.94       128\n",
      "\n",
      "[[38  0  0  0  0  0]\n",
      " [ 0 13  3  0  0  0]\n",
      " [ 0  0 20  0  0  2]\n",
      " [ 0  0  0 28  0  0]\n",
      " [ 0  0  0  0  6  0]\n",
      " [ 2  0  0  0  0 16]]\n"
     ]
    },
    {
     "name": "stderr",
     "output_type": "stream",
     "text": [
      "\n"
     ]
    },
    {
     "data": {
      "image/png": "[encoded data removed]",
      "text/plain": [
       "<Figure size 1000x600 with 1 Axes>"
      ]
     },
     "metadata": {},
     "output_type": "display_data"
    }
   ],
   "source": [
    "trained_model = train_model(\"ResNet50\", train_loader, val_loader, num_classes=6, num_epochs=20, lr=0.0001)"
   ]
  },
  {
   "cell_type": "markdown",
   "id": "303aa017-9dd1-4b30-8f9b-405e73d92e8d",
   "metadata": {
    "jp-MarkdownHeadingCollapsed": true
   },
   "source": [
    "### ResNet101"
   ]
  },
  {
   "cell_type": "code",
   "execution_count": 10,
   "id": "b3f712a3-57d8-41de-a7d9-f70a6b1eed6b",
   "metadata": {},
   "outputs": [
    {
     "name": "stdout",
     "output_type": "stream",
     "text": [
      "\n",
      "Using device: cuda (NVIDIA GeForce GTX 1650)\n",
      "\n",
      "\n",
      "Training ResNet101 for 20 epochs...\n",
      "\n"
     ]
    },
    {
     "name": "stderr",
     "output_type": "stream",
     "text": [
      "Epoch 1/20: 100%|████████████████████████████████████████████| 12/12 [01:06<00:00,  5.51s/it, accuracy=51.2, loss=1.37]\n"
     ]
    },
    {
     "name": "stdout",
     "output_type": "stream",
     "text": [
      "Epoch 1: Loss = 1.3651, Accuracy = 51.18%\n"
     ]
    },
    {
     "name": "stderr",
     "output_type": "stream",
     "text": [
      "Epoch 2/20: 100%|███████████████████████████████████████████| 12/12 [01:05<00:00,  5.48s/it, accuracy=80.8, loss=0.599]\n"
     ]
    },
    {
     "name": "stdout",
     "output_type": "stream",
     "text": [
      "Epoch 2: Loss = 0.5995, Accuracy = 80.84%\n"
     ]
    },
    {
     "name": "stderr",
     "output_type": "stream",
     "text": [
      "Epoch 3/20: 100%|███████████████████████████████████████████| 12/12 [01:05<00:00,  5.47s/it, accuracy=93.4, loss=0.279]\n"
     ]
    },
    {
     "name": "stdout",
     "output_type": "stream",
     "text": [
      "Epoch 3: Loss = 0.2785, Accuracy = 93.44%\n"
     ]
    },
    {
     "name": "stderr",
     "output_type": "stream",
     "text": [
      "Epoch 4/20: 100%|███████████████████████████████████████████| 12/12 [01:06<00:00,  5.52s/it, accuracy=94.2, loss=0.208]\n"
     ]
    },
    {
     "name": "stdout",
     "output_type": "stream",
     "text": [
      "Epoch 4: Loss = 0.2081, Accuracy = 94.23%\n"
     ]
    },
    {
     "name": "stderr",
     "output_type": "stream",
     "text": [
      "Epoch 5/20: 100%|███████████████████████████████████████████| 12/12 [01:06<00:00,  5.52s/it, accuracy=93.2, loss=0.223]\n"
     ]
    },
    {
     "name": "stdout",
     "output_type": "stream",
     "text": [
      "Epoch 5: Loss = 0.2233, Accuracy = 93.18%\n"
     ]
    },
    {
     "name": "stderr",
     "output_type": "stream",
     "text": [
      "Epoch 6/20: 100%|███████████████████████████████████████████| 12/12 [01:06<00:00,  5.53s/it, accuracy=94.2, loss=0.176]\n"
     ]
    },
    {
     "name": "stdout",
     "output_type": "stream",
     "text": [
      "Epoch 6: Loss = 0.1761, Accuracy = 94.23%\n"
     ]
    },
    {
     "name": "stderr",
     "output_type": "stream",
     "text": [
      "Epoch 7/20: 100%|██████████████████████████████████████████| 12/12 [01:06<00:00,  5.52s/it, accuracy=98.2, loss=0.0732]\n"
     ]
    },
    {
     "name": "stdout",
     "output_type": "stream",
     "text": [
      "Epoch 7: Loss = 0.0732, Accuracy = 98.16%\n"
     ]
    },
    {
     "name": "stderr",
     "output_type": "stream",
     "text": [
      "Epoch 8/20: 100%|██████████████████████████████████████████| 12/12 [01:06<00:00,  5.52s/it, accuracy=98.2, loss=0.0552]\n"
     ]
    },
    {
     "name": "stdout",
     "output_type": "stream",
     "text": [
      "Epoch 8: Loss = 0.0552, Accuracy = 98.16%\n"
     ]
    },
    {
     "name": "stderr",
     "output_type": "stream",
     "text": [
      "Epoch 9/20: 100%|████████████████████████████████████████████| 12/12 [01:06<00:00,  5.52s/it, accuracy=99, loss=0.0385]\n"
     ]
    },
    {
     "name": "stdout",
     "output_type": "stream",
     "text": [
      "Epoch 9: Loss = 0.0385, Accuracy = 98.95%\n"
     ]
    },
    {
     "name": "stderr",
     "output_type": "stream",
     "text": [
      "Epoch 10/20: 100%|███████████████████████████████████████████| 12/12 [01:06<00:00,  5.53s/it, accuracy=99, loss=0.0387]\n"
     ]
    },
    {
     "name": "stdout",
     "output_type": "stream",
     "text": [
      "Epoch 10: Loss = 0.0387, Accuracy = 98.95%\n"
     ]
    },
    {
     "name": "stderr",
     "output_type": "stream",
     "text": [
      "Epoch 11/20: 100%|██████████████████████████████████████████| 12/12 [01:06<00:00,  5.53s/it, accuracy=98.4, loss=0.054]\n"
     ]
    },
    {
     "name": "stdout",
     "output_type": "stream",
     "text": [
      "Epoch 11: Loss = 0.0540, Accuracy = 98.43%\n"
     ]
    },
    {
     "name": "stderr",
     "output_type": "stream",
     "text": [
      "Epoch 12/20: 100%|█████████████████████████████████████████| 12/12 [01:06<00:00,  5.53s/it, accuracy=98.2, loss=0.0505]\n"
     ]
    },
    {
     "name": "stdout",
     "output_type": "stream",
     "text": [
      "Epoch 12: Loss = 0.0505, Accuracy = 98.16%\n"
     ]
    },
    {
     "name": "stderr",
     "output_type": "stream",
     "text": [
      "Epoch 13/20: 100%|█████████████████████████████████████████| 12/12 [01:06<00:00,  5.53s/it, accuracy=96.9, loss=0.0857]\n"
     ]
    },
    {
     "name": "stdout",
     "output_type": "stream",
     "text": [
      "Epoch 13: Loss = 0.0857, Accuracy = 96.85%\n"
     ]
    },
    {
     "name": "stderr",
     "output_type": "stream",
     "text": [
      "Epoch 14/20: 100%|█████████████████████████████████████████| 12/12 [01:06<00:00,  5.53s/it, accuracy=98.2, loss=0.0663]\n"
     ]
    },
    {
     "name": "stdout",
     "output_type": "stream",
     "text": [
      "Epoch 14: Loss = 0.0663, Accuracy = 98.16%\n"
     ]
    },
    {
     "name": "stderr",
     "output_type": "stream",
     "text": [
      "Epoch 15/20: 100%|█████████████████████████████████████████| 12/12 [01:06<00:00,  5.52s/it, accuracy=98.7, loss=0.0512]\n"
     ]
    },
    {
     "name": "stdout",
     "output_type": "stream",
     "text": [
      "Epoch 15: Loss = 0.0512, Accuracy = 98.69%\n"
     ]
    },
    {
     "name": "stderr",
     "output_type": "stream",
     "text": [
      "Epoch 16/20: 100%|█████████████████████████████████████████| 12/12 [01:06<00:00,  5.53s/it, accuracy=99.5, loss=0.0343]\n"
     ]
    },
    {
     "name": "stdout",
     "output_type": "stream",
     "text": [
      "Epoch 16: Loss = 0.0343, Accuracy = 99.48%\n"
     ]
    },
    {
     "name": "stderr",
     "output_type": "stream",
     "text": [
      "Epoch 17/20: 100%|█████████████████████████████████████████| 12/12 [01:06<00:00,  5.53s/it, accuracy=98.7, loss=0.0614]\n"
     ]
    },
    {
     "name": "stdout",
     "output_type": "stream",
     "text": [
      "Epoch 17: Loss = 0.0614, Accuracy = 98.69%\n"
     ]
    },
    {
     "name": "stderr",
     "output_type": "stream",
     "text": [
      "Epoch 18/20: 100%|███████████████████████████████████████████| 12/12 [01:06<00:00,  5.52s/it, accuracy=99, loss=0.0369]\n"
     ]
    },
    {
     "name": "stdout",
     "output_type": "stream",
     "text": [
      "Epoch 18: Loss = 0.0369, Accuracy = 98.95%\n"
     ]
    },
    {
     "name": "stderr",
     "output_type": "stream",
     "text": [
      "Epoch 19/20: 100%|█████████████████████████████████████████| 12/12 [01:06<00:00,  5.52s/it, accuracy=99.5, loss=0.0278]\n"
     ]
    },
    {
     "name": "stdout",
     "output_type": "stream",
     "text": [
      "Epoch 19: Loss = 0.0278, Accuracy = 99.48%\n"
     ]
    },
    {
     "name": "stderr",
     "output_type": "stream",
     "text": [
      "Epoch 20/20: 100%|█████████████████████████████████████████| 12/12 [01:06<00:00,  5.53s/it, accuracy=98.7, loss=0.0356]\n"
     ]
    },
    {
     "name": "stdout",
     "output_type": "stream",
     "text": [
      "Epoch 20: Loss = 0.0356, Accuracy = 98.69%\n"
     ]
    },
    {
     "name": "stderr",
     "output_type": "stream",
     "text": [
      "🔍 Evaluating Validation Set: 100%|██████████████████████████████████████████████████████| 4/4 [00:02<00:00,  1.39it/s]\n"
     ]
    },
    {
     "name": "stdout",
     "output_type": "stream",
     "text": [
      "\n",
      "Validation Set Accuracy: 91.34%\n",
      "              precision    recall  f1-score   support\n",
      "\n",
      "           0       0.93      0.91      0.92        43\n",
      "           1       0.93      0.81      0.87        16\n",
      "           2       0.93      0.88      0.90        16\n",
      "           3       1.00      0.97      0.98        33\n",
      "           4       0.75      1.00      0.86         6\n",
      "           5       0.75      0.92      0.83        13\n",
      "\n",
      "    accuracy                           0.91       127\n",
      "   macro avg       0.88      0.91      0.89       127\n",
      "weighted avg       0.92      0.91      0.91       127\n",
      "\n",
      "[[39  0  0  0  2  2]\n",
      " [ 1 13  1  0  0  1]\n",
      " [ 1  0 14  0  0  1]\n",
      " [ 0  1  0 32  0  0]\n",
      " [ 0  0  0  0  6  0]\n",
      " [ 1  0  0  0  0 12]]\n"
     ]
    },
    {
     "data": {
      "image/png": "[encoded data removed]",
      "text/plain": [
       "<Figure size 1000x600 with 1 Axes>"
      ]
     },
     "metadata": {},
     "output_type": "display_data"
    },
    {
     "name": "stderr",
     "output_type": "stream",
     "text": [
      "🔍 Evaluating Testing Set: 100%|█████████████████████████████████████████████████████████| 4/4 [00:02<00:00,  1.40it/s]\n"
     ]
    },
    {
     "name": "stdout",
     "output_type": "stream",
     "text": [
      "\n",
      "Testing Set Accuracy: 94.53%\n",
      "              precision    recall  f1-score   support\n",
      "\n",
      "           0       0.94      0.98      0.96        45\n",
      "           1       0.94      0.94      0.94        16\n",
      "           2       0.96      1.00      0.98        22\n",
      "           3       0.96      0.96      0.96        25\n",
      "           4       1.00      0.78      0.88         9\n",
      "           5       0.90      0.82      0.86        11\n",
      "\n",
      "    accuracy                           0.95       128\n",
      "   macro avg       0.95      0.91      0.93       128\n",
      "weighted avg       0.95      0.95      0.94       128\n",
      "\n",
      "[[44  0  0  0  0  1]\n",
      " [ 0 15  1  0  0  0]\n",
      " [ 0  0 22  0  0  0]\n",
      " [ 1  0  0 24  0  0]\n",
      " [ 0  1  0  1  7  0]\n",
      " [ 2  0  0  0  0  9]]\n"
     ]
    },
    {
     "data": {
      "image/png": "[encoded data removed]",
      "text/plain": [
       "<Figure size 1000x600 with 1 Axes>"
      ]
     },
     "metadata": {},
     "output_type": "display_data"
    }
   ],
   "source": [
    "trained_model = train_model(\"ResNet101\", train_loader, val_loader, num_classes=6, num_epochs=20, lr=0.0001)"
   ]
  },
  {
   "cell_type": "markdown",
   "id": "06127931-7ec7-41cf-9899-0faa0a5b0149",
   "metadata": {
    "jp-MarkdownHeadingCollapsed": true
   },
   "source": [
    "### EfficientNetV2"
   ]
  },
  {
   "cell_type": "code",
   "execution_count": 11,
   "id": "0f8b29f9-ab5e-4382-8182-695300a8518d",
   "metadata": {},
   "outputs": [
    {
     "name": "stdout",
     "output_type": "stream",
     "text": [
      "\n",
      "Using device: cuda (NVIDIA GeForce GTX 1650)\n",
      "\n",
      "\n",
      "Training EfficientNetV2 for 20 epochs...\n",
      "\n"
     ]
    },
    {
     "name": "stderr",
     "output_type": "stream",
     "text": [
      "Epoch 1/20: 100%|████████████████████████████████████████████| 12/12 [00:48<00:00,  4.04s/it, accuracy=37.8, loss=1.67]\n"
     ]
    },
    {
     "name": "stdout",
     "output_type": "stream",
     "text": [
      "Epoch 1: Loss = 1.6724, Accuracy = 37.80%\n"
     ]
    },
    {
     "name": "stderr",
     "output_type": "stream",
     "text": [
      "Epoch 2/20: 100%|████████████████████████████████████████████| 12/12 [00:47<00:00,  3.96s/it, accuracy=62.5, loss=1.32]\n"
     ]
    },
    {
     "name": "stdout",
     "output_type": "stream",
     "text": [
      "Epoch 2: Loss = 1.3250, Accuracy = 62.47%\n"
     ]
    },
    {
     "name": "stderr",
     "output_type": "stream",
     "text": [
      "Epoch 3/20: 100%|███████████████████████████████████████████| 12/12 [00:47<00:00,  3.96s/it, accuracy=77.2, loss=0.876]\n"
     ]
    },
    {
     "name": "stdout",
     "output_type": "stream",
     "text": [
      "Epoch 3: Loss = 0.8763, Accuracy = 77.17%\n"
     ]
    },
    {
     "name": "stderr",
     "output_type": "stream",
     "text": [
      "Epoch 4/20: 100%|███████████████████████████████████████████| 12/12 [00:47<00:00,  3.96s/it, accuracy=86.6, loss=0.554]\n"
     ]
    },
    {
     "name": "stdout",
     "output_type": "stream",
     "text": [
      "Epoch 4: Loss = 0.5536, Accuracy = 86.61%\n"
     ]
    },
    {
     "name": "stderr",
     "output_type": "stream",
     "text": [
      "Epoch 5/20: 100%|████████████████████████████████████████████| 12/12 [00:47<00:00,  3.96s/it, accuracy=91.3, loss=0.33]\n"
     ]
    },
    {
     "name": "stdout",
     "output_type": "stream",
     "text": [
      "Epoch 5: Loss = 0.3296, Accuracy = 91.34%\n"
     ]
    },
    {
     "name": "stderr",
     "output_type": "stream",
     "text": [
      "Epoch 6/20: 100%|███████████████████████████████████████████| 12/12 [00:47<00:00,  3.95s/it, accuracy=93.7, loss=0.243]\n"
     ]
    },
    {
     "name": "stdout",
     "output_type": "stream",
     "text": [
      "Epoch 6: Loss = 0.2435, Accuracy = 93.70%\n"
     ]
    },
    {
     "name": "stderr",
     "output_type": "stream",
     "text": [
      "Epoch 7/20: 100%|███████████████████████████████████████████| 12/12 [00:47<00:00,  3.96s/it, accuracy=96.6, loss=0.164]\n"
     ]
    },
    {
     "name": "stdout",
     "output_type": "stream",
     "text": [
      "Epoch 7: Loss = 0.1640, Accuracy = 96.59%\n"
     ]
    },
    {
     "name": "stderr",
     "output_type": "stream",
     "text": [
      "Epoch 8/20: 100%|███████████████████████████████████████████| 12/12 [00:47<00:00,  3.96s/it, accuracy=97.4, loss=0.104]\n"
     ]
    },
    {
     "name": "stdout",
     "output_type": "stream",
     "text": [
      "Epoch 8: Loss = 0.1042, Accuracy = 97.38%\n"
     ]
    },
    {
     "name": "stderr",
     "output_type": "stream",
     "text": [
      "Epoch 9/20: 100%|███████████████████████████████████████████| 12/12 [00:47<00:00,  3.96s/it, accuracy=97.4, loss=0.103]\n"
     ]
    },
    {
     "name": "stdout",
     "output_type": "stream",
     "text": [
      "Epoch 9: Loss = 0.1027, Accuracy = 97.38%\n"
     ]
    },
    {
     "name": "stderr",
     "output_type": "stream",
     "text": [
      "Epoch 10/20: 100%|██████████████████████████████████████████| 12/12 [00:47<00:00,  3.96s/it, accuracy=96.3, loss=0.106]\n"
     ]
    },
    {
     "name": "stdout",
     "output_type": "stream",
     "text": [
      "Epoch 10: Loss = 0.1056, Accuracy = 96.33%\n"
     ]
    },
    {
     "name": "stderr",
     "output_type": "stream",
     "text": [
      "Epoch 11/20: 100%|█████████████████████████████████████████| 12/12 [00:47<00:00,  3.96s/it, accuracy=98.2, loss=0.0717]\n"
     ]
    },
    {
     "name": "stdout",
     "output_type": "stream",
     "text": [
      "Epoch 11: Loss = 0.0717, Accuracy = 98.16%\n"
     ]
    },
    {
     "name": "stderr",
     "output_type": "stream",
     "text": [
      "Epoch 12/20: 100%|█████████████████████████████████████████| 12/12 [00:47<00:00,  3.95s/it, accuracy=99.2, loss=0.0485]\n"
     ]
    },
    {
     "name": "stdout",
     "output_type": "stream",
     "text": [
      "Epoch 12: Loss = 0.0485, Accuracy = 99.21%\n"
     ]
    },
    {
     "name": "stderr",
     "output_type": "stream",
     "text": [
      "Epoch 13/20: 100%|█████████████████████████████████████████| 12/12 [00:47<00:00,  3.96s/it, accuracy=99.5, loss=0.0516]\n"
     ]
    },
    {
     "name": "stdout",
     "output_type": "stream",
     "text": [
      "Epoch 13: Loss = 0.0516, Accuracy = 99.48%\n"
     ]
    },
    {
     "name": "stderr",
     "output_type": "stream",
     "text": [
      "Epoch 14/20: 100%|█████████████████████████████████████████| 12/12 [00:47<00:00,  3.96s/it, accuracy=98.4, loss=0.0412]\n"
     ]
    },
    {
     "name": "stdout",
     "output_type": "stream",
     "text": [
      "Epoch 14: Loss = 0.0412, Accuracy = 98.43%\n"
     ]
    },
    {
     "name": "stderr",
     "output_type": "stream",
     "text": [
      "Epoch 15/20: 100%|████████████████████████████████████████████| 12/12 [00:47<00:00,  3.96s/it, accuracy=99, loss=0.041]\n"
     ]
    },
    {
     "name": "stdout",
     "output_type": "stream",
     "text": [
      "Epoch 15: Loss = 0.0410, Accuracy = 98.95%\n"
     ]
    },
    {
     "name": "stderr",
     "output_type": "stream",
     "text": [
      "Epoch 16/20: 100%|█████████████████████████████████████████| 12/12 [00:47<00:00,  3.96s/it, accuracy=99.2, loss=0.0366]\n"
     ]
    },
    {
     "name": "stdout",
     "output_type": "stream",
     "text": [
      "Epoch 16: Loss = 0.0366, Accuracy = 99.21%\n"
     ]
    },
    {
     "name": "stderr",
     "output_type": "stream",
     "text": [
      "Epoch 17/20: 100%|█████████████████████████████████████████| 12/12 [00:47<00:00,  3.98s/it, accuracy=98.4, loss=0.0561]\n"
     ]
    },
    {
     "name": "stdout",
     "output_type": "stream",
     "text": [
      "Epoch 17: Loss = 0.0561, Accuracy = 98.43%\n"
     ]
    },
    {
     "name": "stderr",
     "output_type": "stream",
     "text": [
      "Epoch 18/20: 100%|███████████████████████████████████████████| 12/12 [00:47<00:00,  3.96s/it, accuracy=99, loss=0.0379]\n"
     ]
    },
    {
     "name": "stdout",
     "output_type": "stream",
     "text": [
      "Epoch 18: Loss = 0.0379, Accuracy = 98.95%\n"
     ]
    },
    {
     "name": "stderr",
     "output_type": "stream",
     "text": [
      "Epoch 19/20: 100%|██████████████████████████████████████████| 12/12 [00:48<00:00,  4.03s/it, accuracy=100, loss=0.0179]\n"
     ]
    },
    {
     "name": "stdout",
     "output_type": "stream",
     "text": [
      "Epoch 19: Loss = 0.0179, Accuracy = 100.00%\n"
     ]
    },
    {
     "name": "stderr",
     "output_type": "stream",
     "text": [
      "Epoch 20/20: 100%|█████████████████████████████████████████| 12/12 [00:50<00:00,  4.21s/it, accuracy=99.7, loss=0.0185]\n"
     ]
    },
    {
     "name": "stdout",
     "output_type": "stream",
     "text": [
      "Epoch 20: Loss = 0.0185, Accuracy = 99.74%\n"
     ]
    },
    {
     "name": "stderr",
     "output_type": "stream",
     "text": [
      "🔍 Evaluating Validation Set: 100%|██████████████████████████████████████████████████████| 4/4 [00:05<00:00,  1.26s/it]\n"
     ]
    },
    {
     "name": "stdout",
     "output_type": "stream",
     "text": [
      "\n",
      "Validation Set Accuracy: 89.76%\n",
      "              precision    recall  f1-score   support\n",
      "\n",
      "           0       0.97      0.84      0.90        43\n",
      "           1       0.93      0.88      0.90        16\n",
      "           2       0.88      0.88      0.88        16\n",
      "           3       0.97      0.97      0.97        33\n",
      "           4       0.67      1.00      0.80         6\n",
      "           5       0.71      0.92      0.80        13\n",
      "\n",
      "    accuracy                           0.90       127\n",
      "   macro avg       0.85      0.91      0.87       127\n",
      "weighted avg       0.91      0.90      0.90       127\n",
      "\n",
      "[[36  0  1  0  3  3]\n",
      " [ 1 14  0  1  0  0]\n",
      " [ 0  0 14  0  0  2]\n",
      " [ 0  1  0 32  0  0]\n",
      " [ 0  0  0  0  6  0]\n",
      " [ 0  0  1  0  0 12]]\n"
     ]
    },
    {
     "data": {
      "image/png": "[encoded data removed]",
      "text/plain": [
       "<Figure size 1000x600 with 1 Axes>"
      ]
     },
     "metadata": {},
     "output_type": "display_data"
    },
    {
     "name": "stderr",
     "output_type": "stream",
     "text": [
      "🔍 Evaluating Testing Set: 100%|█████████████████████████████████████████████████████████| 4/4 [00:05<00:00,  1.43s/it]"
     ]
    },
    {
     "name": "stdout",
     "output_type": "stream",
     "text": [
      "\n",
      "Testing Set Accuracy: 96.09%\n",
      "              precision    recall  f1-score   support\n",
      "\n",
      "           0       0.96      0.98      0.97        45\n",
      "           1       0.94      0.94      0.94        16\n",
      "           2       1.00      0.95      0.98        22\n",
      "           3       0.96      0.92      0.94        25\n",
      "           4       1.00      1.00      1.00         9\n",
      "           5       0.92      1.00      0.96        11\n",
      "\n",
      "    accuracy                           0.96       128\n",
      "   macro avg       0.96      0.96      0.96       128\n",
      "weighted avg       0.96      0.96      0.96       128\n",
      "\n",
      "[[44  0  0  0  0  1]\n",
      " [ 0 15  0  1  0  0]\n",
      " [ 0  1 21  0  0  0]\n",
      " [ 2  0  0 23  0  0]\n",
      " [ 0  0  0  0  9  0]\n",
      " [ 0  0  0  0  0 11]]\n"
     ]
    },
    {
     "name": "stderr",
     "output_type": "stream",
     "text": [
      "\n"
     ]
    },
    {
     "data": {
      "image/png": "[encoded data removed]",
      "text/plain": [
       "<Figure size 1000x600 with 1 Axes>"
      ]
     },
     "metadata": {},
     "output_type": "display_data"
    }
   ],
   "source": [
    "trained_model = train_model(\"EfficientNetV2\", train_loader, val_loader, num_classes=6, num_epochs=20, lr=0.0001)"
   ]
  },
  {
   "cell_type": "markdown",
   "id": "a0057ca2-536e-48f5-834f-f967cab1b728",
   "metadata": {
    "jp-MarkdownHeadingCollapsed": true
   },
   "source": [
    "### ViT"
   ]
  },
  {
   "cell_type": "code",
   "execution_count": 12,
   "id": "a9309ae4-d3a4-4516-8567-3e99cf00b831",
   "metadata": {},
   "outputs": [
    {
     "name": "stdout",
     "output_type": "stream",
     "text": [
      "\n",
      "Using device: cuda (NVIDIA GeForce GTX 1650)\n",
      "\n",
      "\n",
      "Training ViT for 20 epochs...\n",
      "\n"
     ]
    },
    {
     "name": "stderr",
     "output_type": "stream",
     "text": [
      "Epoch 1/20: 100%|██████████████████████████████████████████████| 12/12 [02:49<00:00, 14.10s/it, accuracy=31, loss=1.73]\n"
     ]
    },
    {
     "name": "stdout",
     "output_type": "stream",
     "text": [
      "Epoch 1: Loss = 1.7277, Accuracy = 30.97%\n"
     ]
    },
    {
     "name": "stderr",
     "output_type": "stream",
     "text": [
      "Epoch 2/20: 100%|████████████████████████████████████████████| 12/12 [02:44<00:00, 13.71s/it, accuracy=54.6, loss=1.18]\n"
     ]
    },
    {
     "name": "stdout",
     "output_type": "stream",
     "text": [
      "Epoch 2: Loss = 1.1801, Accuracy = 54.59%\n"
     ]
    },
    {
     "name": "stderr",
     "output_type": "stream",
     "text": [
      "Epoch 3/20: 100%|███████████████████████████████████████████| 12/12 [02:44<00:00, 13.70s/it, accuracy=78.2, loss=0.657]\n"
     ]
    },
    {
     "name": "stdout",
     "output_type": "stream",
     "text": [
      "Epoch 3: Loss = 0.6565, Accuracy = 78.22%\n"
     ]
    },
    {
     "name": "stderr",
     "output_type": "stream",
     "text": [
      "Epoch 4/20: 100%|███████████████████████████████████████████| 12/12 [02:45<00:00, 13.75s/it, accuracy=86.9, loss=0.417]\n"
     ]
    },
    {
     "name": "stdout",
     "output_type": "stream",
     "text": [
      "Epoch 4: Loss = 0.4173, Accuracy = 86.88%\n"
     ]
    },
    {
     "name": "stderr",
     "output_type": "stream",
     "text": [
      "Epoch 5/20: 100%|███████████████████████████████████████████| 12/12 [02:44<00:00, 13.72s/it, accuracy=91.1, loss=0.277]\n"
     ]
    },
    {
     "name": "stdout",
     "output_type": "stream",
     "text": [
      "Epoch 5: Loss = 0.2771, Accuracy = 91.08%\n"
     ]
    },
    {
     "name": "stderr",
     "output_type": "stream",
     "text": [
      "Epoch 6/20: 100%|███████████████████████████████████████████| 12/12 [02:44<00:00, 13.72s/it, accuracy=91.9, loss=0.224]\n"
     ]
    },
    {
     "name": "stdout",
     "output_type": "stream",
     "text": [
      "Epoch 6: Loss = 0.2240, Accuracy = 91.86%\n"
     ]
    },
    {
     "name": "stderr",
     "output_type": "stream",
     "text": [
      "Epoch 7/20: 100%|███████████████████████████████████████████| 12/12 [02:44<00:00, 13.71s/it, accuracy=95.3, loss=0.147]\n"
     ]
    },
    {
     "name": "stdout",
     "output_type": "stream",
     "text": [
      "Epoch 7: Loss = 0.1473, Accuracy = 95.28%\n"
     ]
    },
    {
     "name": "stderr",
     "output_type": "stream",
     "text": [
      "Epoch 8/20: 100%|███████████████████████████████████████████| 12/12 [02:44<00:00, 13.73s/it, accuracy=95.8, loss=0.125]\n"
     ]
    },
    {
     "name": "stdout",
     "output_type": "stream",
     "text": [
      "Epoch 8: Loss = 0.1252, Accuracy = 95.80%\n"
     ]
    },
    {
     "name": "stderr",
     "output_type": "stream",
     "text": [
      "Epoch 9/20: 100%|██████████████████████████████████████████| 12/12 [02:44<00:00, 13.71s/it, accuracy=97.6, loss=0.0821]\n"
     ]
    },
    {
     "name": "stdout",
     "output_type": "stream",
     "text": [
      "Epoch 9: Loss = 0.0821, Accuracy = 97.64%\n"
     ]
    },
    {
     "name": "stderr",
     "output_type": "stream",
     "text": [
      "Epoch 10/20: 100%|█████████████████████████████████████████| 12/12 [02:44<00:00, 13.71s/it, accuracy=97.9, loss=0.0625]\n"
     ]
    },
    {
     "name": "stdout",
     "output_type": "stream",
     "text": [
      "Epoch 10: Loss = 0.0625, Accuracy = 97.90%\n"
     ]
    },
    {
     "name": "stderr",
     "output_type": "stream",
     "text": [
      "Epoch 11/20: 100%|█████████████████████████████████████████| 12/12 [02:44<00:00, 13.73s/it, accuracy=96.9, loss=0.0902]\n"
     ]
    },
    {
     "name": "stdout",
     "output_type": "stream",
     "text": [
      "Epoch 11: Loss = 0.0902, Accuracy = 96.85%\n"
     ]
    },
    {
     "name": "stderr",
     "output_type": "stream",
     "text": [
      "Epoch 12/20: 100%|█████████████████████████████████████████| 12/12 [02:44<00:00, 13.70s/it, accuracy=97.6, loss=0.0746]\n"
     ]
    },
    {
     "name": "stdout",
     "output_type": "stream",
     "text": [
      "Epoch 12: Loss = 0.0746, Accuracy = 97.64%\n"
     ]
    },
    {
     "name": "stderr",
     "output_type": "stream",
     "text": [
      "Epoch 13/20: 100%|█████████████████████████████████████████| 12/12 [02:44<00:00, 13.70s/it, accuracy=98.4, loss=0.0635]\n"
     ]
    },
    {
     "name": "stdout",
     "output_type": "stream",
     "text": [
      "Epoch 13: Loss = 0.0635, Accuracy = 98.43%\n"
     ]
    },
    {
     "name": "stderr",
     "output_type": "stream",
     "text": [
      "Epoch 14/20: 100%|█████████████████████████████████████████| 12/12 [02:44<00:00, 13.73s/it, accuracy=99.5, loss=0.0254]\n"
     ]
    },
    {
     "name": "stdout",
     "output_type": "stream",
     "text": [
      "Epoch 14: Loss = 0.0254, Accuracy = 99.48%\n"
     ]
    },
    {
     "name": "stderr",
     "output_type": "stream",
     "text": [
      "Epoch 15/20: 100%|███████████████████████████████████████████| 12/12 [02:44<00:00, 13.70s/it, accuracy=99, loss=0.0297]\n"
     ]
    },
    {
     "name": "stdout",
     "output_type": "stream",
     "text": [
      "Epoch 15: Loss = 0.0297, Accuracy = 98.95%\n"
     ]
    },
    {
     "name": "stderr",
     "output_type": "stream",
     "text": [
      "Epoch 16/20: 100%|█████████████████████████████████████████| 12/12 [02:44<00:00, 13.70s/it, accuracy=99.2, loss=0.0444]\n"
     ]
    },
    {
     "name": "stdout",
     "output_type": "stream",
     "text": [
      "Epoch 16: Loss = 0.0444, Accuracy = 99.21%\n"
     ]
    },
    {
     "name": "stderr",
     "output_type": "stream",
     "text": [
      "Epoch 17/20: 100%|█████████████████████████████████████████| 12/12 [02:44<00:00, 13.73s/it, accuracy=99.2, loss=0.0225]\n"
     ]
    },
    {
     "name": "stdout",
     "output_type": "stream",
     "text": [
      "Epoch 17: Loss = 0.0225, Accuracy = 99.21%\n"
     ]
    },
    {
     "name": "stderr",
     "output_type": "stream",
     "text": [
      "Epoch 18/20: 100%|█████████████████████████████████████████| 12/12 [02:44<00:00, 13.75s/it, accuracy=99.2, loss=0.0301]\n"
     ]
    },
    {
     "name": "stdout",
     "output_type": "stream",
     "text": [
      "Epoch 18: Loss = 0.0301, Accuracy = 99.21%\n"
     ]
    },
    {
     "name": "stderr",
     "output_type": "stream",
     "text": [
      "Epoch 19/20: 100%|█████████████████████████████████████████| 12/12 [02:44<00:00, 13.74s/it, accuracy=99.5, loss=0.0117]\n"
     ]
    },
    {
     "name": "stdout",
     "output_type": "stream",
     "text": [
      "Epoch 19: Loss = 0.0117, Accuracy = 99.48%\n"
     ]
    },
    {
     "name": "stderr",
     "output_type": "stream",
     "text": [
      "Epoch 20/20: 100%|█████████████████████████████████████████| 12/12 [02:44<00:00, 13.73s/it, accuracy=100, loss=0.00326]\n"
     ]
    },
    {
     "name": "stdout",
     "output_type": "stream",
     "text": [
      "Epoch 20: Loss = 0.0033, Accuracy = 100.00%\n"
     ]
    },
    {
     "name": "stderr",
     "output_type": "stream",
     "text": [
      "🔍 Evaluating Validation Set: 100%|██████████████████████████████████████████████████████| 4/4 [00:35<00:00,  8.95s/it]\n"
     ]
    },
    {
     "name": "stdout",
     "output_type": "stream",
     "text": [
      "\n",
      "Validation Set Accuracy: 90.55%\n",
      "              precision    recall  f1-score   support\n",
      "\n",
      "           0       0.87      0.95      0.91        43\n",
      "           1       0.93      0.81      0.87        16\n",
      "           2       1.00      0.88      0.93        16\n",
      "           3       1.00      1.00      1.00        33\n",
      "           4       0.67      1.00      0.80         6\n",
      "           5       0.80      0.62      0.70        13\n",
      "\n",
      "    accuracy                           0.91       127\n",
      "   macro avg       0.88      0.88      0.87       127\n",
      "weighted avg       0.91      0.91      0.90       127\n",
      "\n",
      "[[41  0  0  0  2  0]\n",
      " [ 3 13  0  0  0  0]\n",
      " [ 0  0 14  0  0  2]\n",
      " [ 0  0  0 33  0  0]\n",
      " [ 0  0  0  0  6  0]\n",
      " [ 3  1  0  0  1  8]]\n"
     ]
    },
    {
     "data": {
      "image/png": "[encoded data removed]",
      "text/plain": [
       "<Figure size 1000x600 with 1 Axes>"
      ]
     },
     "metadata": {},
     "output_type": "display_data"
    },
    {
     "name": "stderr",
     "output_type": "stream",
     "text": [
      "🔍 Evaluating Testing Set: 100%|█████████████████████████████████████████████████████████| 4/4 [00:36<00:00,  9.12s/it]"
     ]
    },
    {
     "name": "stdout",
     "output_type": "stream",
     "text": [
      "\n",
      "Testing Set Accuracy: 95.31%\n",
      "              precision    recall  f1-score   support\n",
      "\n",
      "           0       0.96      1.00      0.98        45\n",
      "           1       0.88      0.94      0.91        16\n",
      "           2       0.95      0.86      0.90        22\n",
      "           3       0.96      0.96      0.96        25\n",
      "           4       1.00      1.00      1.00         9\n",
      "           5       1.00      0.91      0.95        11\n",
      "\n",
      "    accuracy                           0.95       128\n",
      "   macro avg       0.96      0.95      0.95       128\n",
      "weighted avg       0.95      0.95      0.95       128\n",
      "\n",
      "[[45  0  0  0  0  0]\n",
      " [ 0 15  0  1  0  0]\n",
      " [ 1  2 19  0  0  0]\n",
      " [ 1  0  0 24  0  0]\n",
      " [ 0  0  0  0  9  0]\n",
      " [ 0  0  1  0  0 10]]\n"
     ]
    },
    {
     "name": "stderr",
     "output_type": "stream",
     "text": [
      "\n"
     ]
    },
    {
     "data": {
      "image/png": "[encoded data removed]",
      "text/plain": [
       "<Figure size 1000x600 with 1 Axes>"
      ]
     },
     "metadata": {},
     "output_type": "display_data"
    }
   ],
   "source": [
    "trained_model = train_model(\"ViT\", train_loader, val_loader, num_classes=6, num_epochs=20, lr=0.0001)"
   ]
  },
  {
   "cell_type": "markdown",
   "id": "964c09e6-89c8-4163-ba51-187187e3681e",
   "metadata": {
    "jp-MarkdownHeadingCollapsed": true
   },
   "source": [
    "### Googlenet"
   ]
  },
  {
   "cell_type": "code",
   "execution_count": 12,
   "id": "36e2ef2e-1e84-4ee2-970a-52d449deb0a3",
   "metadata": {},
   "outputs": [
    {
     "name": "stdout",
     "output_type": "stream",
     "text": [
      "\n",
      "Using device: cuda (NVIDIA GeForce GTX 1650)\n",
      "\n",
      "\n",
      "Training GoogleNet for 20 epochs...\n",
      "\n"
     ]
    },
    {
     "name": "stderr",
     "output_type": "stream",
     "text": [
      "Epoch 1/20: 100%|█████████████████████████████████████████████| 12/12 [00:04<00:00,  2.93it/s, accuracy=32.3, loss=1.7]\n"
     ]
    },
    {
     "name": "stdout",
     "output_type": "stream",
     "text": [
      "Epoch 1: Loss = 1.6996, Accuracy = 32.28%\n"
     ]
    },
    {
     "name": "stderr",
     "output_type": "stream",
     "text": [
      "Epoch 2/20: 100%|████████████████████████████████████████████| 12/12 [00:03<00:00,  3.67it/s, accuracy=58.3, loss=1.35]\n"
     ]
    },
    {
     "name": "stdout",
     "output_type": "stream",
     "text": [
      "Epoch 2: Loss = 1.3532, Accuracy = 58.27%\n"
     ]
    },
    {
     "name": "stderr",
     "output_type": "stream",
     "text": [
      "Epoch 3/20: 100%|████████████████████████████████████████████| 12/12 [00:03<00:00,  3.78it/s, accuracy=64.3, loss=1.09]\n"
     ]
    },
    {
     "name": "stdout",
     "output_type": "stream",
     "text": [
      "Epoch 3: Loss = 1.0889, Accuracy = 64.30%\n"
     ]
    },
    {
     "name": "stderr",
     "output_type": "stream",
     "text": [
      "Epoch 4/20: 100%|███████████████████████████████████████████| 12/12 [00:03<00:00,  3.84it/s, accuracy=75.1, loss=0.795]\n"
     ]
    },
    {
     "name": "stdout",
     "output_type": "stream",
     "text": [
      "Epoch 4: Loss = 0.7950, Accuracy = 75.07%\n"
     ]
    },
    {
     "name": "stderr",
     "output_type": "stream",
     "text": [
      "Epoch 5/20: 100%|███████████████████████████████████████████| 12/12 [00:03<00:00,  3.70it/s, accuracy=84.3, loss=0.621]\n"
     ]
    },
    {
     "name": "stdout",
     "output_type": "stream",
     "text": [
      "Epoch 5: Loss = 0.6213, Accuracy = 84.25%\n"
     ]
    },
    {
     "name": "stderr",
     "output_type": "stream",
     "text": [
      "Epoch 6/20: 100%|███████████████████████████████████████████| 12/12 [00:03<00:00,  3.80it/s, accuracy=91.3, loss=0.447]\n"
     ]
    },
    {
     "name": "stdout",
     "output_type": "stream",
     "text": [
      "Epoch 6: Loss = 0.4472, Accuracy = 91.34%\n"
     ]
    },
    {
     "name": "stderr",
     "output_type": "stream",
     "text": [
      "Epoch 7/20: 100%|███████████████████████████████████████████| 12/12 [00:03<00:00,  3.75it/s, accuracy=91.6, loss=0.358]\n"
     ]
    },
    {
     "name": "stdout",
     "output_type": "stream",
     "text": [
      "Epoch 7: Loss = 0.3585, Accuracy = 91.60%\n"
     ]
    },
    {
     "name": "stderr",
     "output_type": "stream",
     "text": [
      "Epoch 8/20: 100%|███████████████████████████████████████████| 12/12 [00:03<00:00,  3.77it/s, accuracy=95.5, loss=0.266]\n"
     ]
    },
    {
     "name": "stdout",
     "output_type": "stream",
     "text": [
      "Epoch 8: Loss = 0.2665, Accuracy = 95.54%\n"
     ]
    },
    {
     "name": "stderr",
     "output_type": "stream",
     "text": [
      "Epoch 9/20: 100%|███████████████████████████████████████████| 12/12 [00:03<00:00,  3.76it/s, accuracy=96.3, loss=0.205]\n"
     ]
    },
    {
     "name": "stdout",
     "output_type": "stream",
     "text": [
      "Epoch 9: Loss = 0.2050, Accuracy = 96.33%\n"
     ]
    },
    {
     "name": "stderr",
     "output_type": "stream",
     "text": [
      "Epoch 10/20: 100%|██████████████████████████████████████████| 12/12 [00:03<00:00,  3.81it/s, accuracy=97.4, loss=0.163]\n"
     ]
    },
    {
     "name": "stdout",
     "output_type": "stream",
     "text": [
      "Epoch 10: Loss = 0.1629, Accuracy = 97.38%\n"
     ]
    },
    {
     "name": "stderr",
     "output_type": "stream",
     "text": [
      "Epoch 11/20: 100%|██████████████████████████████████████████| 12/12 [00:03<00:00,  3.74it/s, accuracy=98.2, loss=0.122]\n"
     ]
    },
    {
     "name": "stdout",
     "output_type": "stream",
     "text": [
      "Epoch 11: Loss = 0.1224, Accuracy = 98.16%\n"
     ]
    },
    {
     "name": "stderr",
     "output_type": "stream",
     "text": [
      "Epoch 12/20: 100%|███████████████████████████████████████████| 12/12 [00:03<00:00,  3.55it/s, accuracy=99, loss=0.0946]\n"
     ]
    },
    {
     "name": "stdout",
     "output_type": "stream",
     "text": [
      "Epoch 12: Loss = 0.0946, Accuracy = 98.95%\n"
     ]
    },
    {
     "name": "stderr",
     "output_type": "stream",
     "text": [
      "Epoch 13/20: 100%|███████████████████████████████████████████| 12/12 [00:03<00:00,  3.67it/s, accuracy=99, loss=0.0863]\n"
     ]
    },
    {
     "name": "stdout",
     "output_type": "stream",
     "text": [
      "Epoch 13: Loss = 0.0863, Accuracy = 98.95%\n"
     ]
    },
    {
     "name": "stderr",
     "output_type": "stream",
     "text": [
      "Epoch 14/20: 100%|█████████████████████████████████████████| 12/12 [00:03<00:00,  3.66it/s, accuracy=98.4, loss=0.0753]\n"
     ]
    },
    {
     "name": "stdout",
     "output_type": "stream",
     "text": [
      "Epoch 14: Loss = 0.0753, Accuracy = 98.43%\n"
     ]
    },
    {
     "name": "stderr",
     "output_type": "stream",
     "text": [
      "Epoch 15/20: 100%|███████████████████████████████████████████| 12/12 [00:03<00:00,  3.59it/s, accuracy=100, loss=0.048]\n"
     ]
    },
    {
     "name": "stdout",
     "output_type": "stream",
     "text": [
      "Epoch 15: Loss = 0.0480, Accuracy = 100.00%\n"
     ]
    },
    {
     "name": "stderr",
     "output_type": "stream",
     "text": [
      "Epoch 16/20: 100%|█████████████████████████████████████████| 12/12 [00:03<00:00,  3.64it/s, accuracy=99.2, loss=0.0563]\n"
     ]
    },
    {
     "name": "stdout",
     "output_type": "stream",
     "text": [
      "Epoch 16: Loss = 0.0563, Accuracy = 99.21%\n"
     ]
    },
    {
     "name": "stderr",
     "output_type": "stream",
     "text": [
      "Epoch 17/20: 100%|█████████████████████████████████████████| 12/12 [00:03<00:00,  3.66it/s, accuracy=99.5, loss=0.0532]\n"
     ]
    },
    {
     "name": "stdout",
     "output_type": "stream",
     "text": [
      "Epoch 17: Loss = 0.0532, Accuracy = 99.48%\n"
     ]
    },
    {
     "name": "stderr",
     "output_type": "stream",
     "text": [
      "Epoch 18/20: 100%|█████████████████████████████████████████| 12/12 [00:03<00:00,  3.74it/s, accuracy=99.5, loss=0.0472]\n"
     ]
    },
    {
     "name": "stdout",
     "output_type": "stream",
     "text": [
      "Epoch 18: Loss = 0.0472, Accuracy = 99.48%\n"
     ]
    },
    {
     "name": "stderr",
     "output_type": "stream",
     "text": [
      "Epoch 19/20: 100%|█████████████████████████████████████████| 12/12 [00:04<00:00,  2.71it/s, accuracy=99.7, loss=0.0406]\n"
     ]
    },
    {
     "name": "stdout",
     "output_type": "stream",
     "text": [
      "Epoch 19: Loss = 0.0406, Accuracy = 99.74%\n"
     ]
    },
    {
     "name": "stderr",
     "output_type": "stream",
     "text": [
      "Epoch 20/20: 100%|█████████████████████████████████████████| 12/12 [00:03<00:00,  3.73it/s, accuracy=99.5, loss=0.0394]\n"
     ]
    },
    {
     "name": "stdout",
     "output_type": "stream",
     "text": [
      "Epoch 20: Loss = 0.0394, Accuracy = 99.48%\n"
     ]
    },
    {
     "name": "stderr",
     "output_type": "stream",
     "text": [
      "🔍 Evaluating Validation Set: 100%|██████████████████████████████████████████████████████| 4/4 [00:00<00:00,  5.99it/s]\n"
     ]
    },
    {
     "name": "stdout",
     "output_type": "stream",
     "text": [
      "\n",
      "Validation Set Accuracy: 93.70%\n",
      "              precision    recall  f1-score   support\n",
      "\n",
      "           0       0.93      0.98      0.95        43\n",
      "           1       0.83      1.00      0.91        15\n",
      "           2       0.92      1.00      0.96        11\n",
      "           3       1.00      0.89      0.94        35\n",
      "           4       1.00      1.00      1.00         3\n",
      "           5       0.94      0.85      0.89        20\n",
      "\n",
      "    accuracy                           0.94       127\n",
      "   macro avg       0.94      0.95      0.94       127\n",
      "weighted avg       0.94      0.94      0.94       127\n",
      "\n",
      "[[42  0  0  0  0  1]\n",
      " [ 0 15  0  0  0  0]\n",
      " [ 0  0 11  0  0  0]\n",
      " [ 1  3  0 31  0  0]\n",
      " [ 0  0  0  0  3  0]\n",
      " [ 2  0  1  0  0 17]]\n"
     ]
    },
    {
     "data": {
      "image/png": "[encoded data removed]",
      "text/plain": [
       "<Figure size 1000x600 with 1 Axes>"
      ]
     },
     "metadata": {},
     "output_type": "display_data"
    },
    {
     "name": "stderr",
     "output_type": "stream",
     "text": [
      "🔍 Evaluating Testing Set: 100%|█████████████████████████████████████████████████████████| 4/4 [00:00<00:00,  5.73it/s]\n"
     ]
    },
    {
     "name": "stdout",
     "output_type": "stream",
     "text": [
      "\n",
      "Testing Set Accuracy: 92.97%\n",
      "              precision    recall  f1-score   support\n",
      "\n",
      "           0       0.98      0.86      0.91        49\n",
      "           1       1.00      1.00      1.00        10\n",
      "           2       0.96      0.92      0.94        25\n",
      "           3       0.97      1.00      0.98        29\n",
      "           4       1.00      1.00      1.00         8\n",
      "           5       0.54      1.00      0.70         7\n",
      "\n",
      "    accuracy                           0.93       128\n",
      "   macro avg       0.91      0.96      0.92       128\n",
      "weighted avg       0.95      0.93      0.93       128\n",
      "\n",
      "[[42  0  1  1  0  5]\n",
      " [ 0 10  0  0  0  0]\n",
      " [ 1  0 23  0  0  1]\n",
      " [ 0  0  0 29  0  0]\n",
      " [ 0  0  0  0  8  0]\n",
      " [ 0  0  0  0  0  7]]\n"
     ]
    },
    {
     "data": {
      "image/png": "[encoded data removed]",
      "text/plain": [
       "<Figure size 1000x600 with 1 Axes>"
      ]
     },
     "metadata": {},
     "output_type": "display_data"
    }
   ],
   "source": [
    "trained_model = train_model(\"GoogleNet\", train_loader, val_loader, num_classes=6, num_epochs=20, lr=0.0001)"
   ]
  },
  {
   "cell_type": "markdown",
   "id": "13d1c1d9-4f5a-4e32-9008-c7509b3178de",
   "metadata": {},
   "source": [
    "### InceptionV3"
   ]
  },
  {
   "cell_type": "markdown",
   "id": "e9521b38-2a9c-4404-8baa-fc11d6702de9",
   "metadata": {
    "jp-MarkdownHeadingCollapsed": true
   },
   "source": [
    "### VGG16"
   ]
  },
  {
   "cell_type": "code",
   "execution_count": 14,
   "id": "55bfefb1-7ad9-44b7-8f01-2b616b8896cf",
   "metadata": {},
   "outputs": [
    {
     "name": "stdout",
     "output_type": "stream",
     "text": [
      "\n",
      "Using device: cuda (NVIDIA GeForce GTX 1650)\n",
      "\n",
      "\n",
      "Training VGG16 for 20 epochs...\n",
      "\n"
     ]
    },
    {
     "name": "stderr",
     "output_type": "stream",
     "text": [
      "Epoch 1/20: 100%|████████████████████████████████████████████| 12/12 [02:26<00:00, 12.18s/it, accuracy=32.3, loss=1.65]\n"
     ]
    },
    {
     "name": "stdout",
     "output_type": "stream",
     "text": [
      "Epoch 1: Loss = 1.6490, Accuracy = 32.28%\n"
     ]
    },
    {
     "name": "stderr",
     "output_type": "stream",
     "text": [
      "Epoch 2/20: 100%|████████████████████████████████████████████| 12/12 [02:22<00:00, 11.89s/it, accuracy=52.8, loss=1.21]\n"
     ]
    },
    {
     "name": "stdout",
     "output_type": "stream",
     "text": [
      "Epoch 2: Loss = 1.2117, Accuracy = 52.76%\n"
     ]
    },
    {
     "name": "stderr",
     "output_type": "stream",
     "text": [
      "Epoch 3/20: 100%|███████████████████████████████████████████| 12/12 [02:29<00:00, 12.44s/it, accuracy=67.2, loss=0.941]\n"
     ]
    },
    {
     "name": "stdout",
     "output_type": "stream",
     "text": [
      "Epoch 3: Loss = 0.9408, Accuracy = 67.19%\n"
     ]
    },
    {
     "name": "stderr",
     "output_type": "stream",
     "text": [
      "Epoch 4/20: 100%|███████████████████████████████████████████| 12/12 [02:29<00:00, 12.46s/it, accuracy=72.2, loss=0.706]\n"
     ]
    },
    {
     "name": "stdout",
     "output_type": "stream",
     "text": [
      "Epoch 4: Loss = 0.7059, Accuracy = 72.18%\n"
     ]
    },
    {
     "name": "stderr",
     "output_type": "stream",
     "text": [
      "Epoch 5/20: 100%|███████████████████████████████████████████| 12/12 [02:28<00:00, 12.40s/it, accuracy=83.7, loss=0.451]\n"
     ]
    },
    {
     "name": "stdout",
     "output_type": "stream",
     "text": [
      "Epoch 5: Loss = 0.4507, Accuracy = 83.73%\n"
     ]
    },
    {
     "name": "stderr",
     "output_type": "stream",
     "text": [
      "Epoch 6/20: 100%|████████████████████████████████████████████| 12/12 [02:23<00:00, 11.94s/it, accuracy=87.7, loss=0.38]\n"
     ]
    },
    {
     "name": "stdout",
     "output_type": "stream",
     "text": [
      "Epoch 6: Loss = 0.3802, Accuracy = 87.66%\n"
     ]
    },
    {
     "name": "stderr",
     "output_type": "stream",
     "text": [
      "Epoch 7/20: 100%|███████████████████████████████████████████| 12/12 [02:24<00:00, 12.08s/it, accuracy=86.6, loss=0.379]\n"
     ]
    },
    {
     "name": "stdout",
     "output_type": "stream",
     "text": [
      "Epoch 7: Loss = 0.3787, Accuracy = 86.61%\n"
     ]
    },
    {
     "name": "stderr",
     "output_type": "stream",
     "text": [
      "Epoch 8/20: 100%|███████████████████████████████████████████| 12/12 [02:25<00:00, 12.11s/it, accuracy=88.5, loss=0.326]\n"
     ]
    },
    {
     "name": "stdout",
     "output_type": "stream",
     "text": [
      "Epoch 8: Loss = 0.3264, Accuracy = 88.45%\n"
     ]
    },
    {
     "name": "stderr",
     "output_type": "stream",
     "text": [
      "Epoch 9/20: 100%|████████████████████████████████████████████| 12/12 [02:24<00:00, 12.02s/it, accuracy=91.6, loss=0.26]\n"
     ]
    },
    {
     "name": "stdout",
     "output_type": "stream",
     "text": [
      "Epoch 9: Loss = 0.2600, Accuracy = 91.60%\n"
     ]
    },
    {
     "name": "stderr",
     "output_type": "stream",
     "text": [
      "Epoch 10/20: 100%|██████████████████████████████████████████| 12/12 [02:25<00:00, 12.11s/it, accuracy=91.6, loss=0.248]\n"
     ]
    },
    {
     "name": "stdout",
     "output_type": "stream",
     "text": [
      "Epoch 10: Loss = 0.2480, Accuracy = 91.60%\n"
     ]
    },
    {
     "name": "stderr",
     "output_type": "stream",
     "text": [
      "Epoch 11/20: 100%|██████████████████████████████████████████| 12/12 [02:26<00:00, 12.20s/it, accuracy=95.3, loss=0.136]\n"
     ]
    },
    {
     "name": "stdout",
     "output_type": "stream",
     "text": [
      "Epoch 11: Loss = 0.1361, Accuracy = 95.28%\n"
     ]
    },
    {
     "name": "stderr",
     "output_type": "stream",
     "text": [
      "Epoch 12/20: 100%|██████████████████████████████████████████| 12/12 [02:32<00:00, 12.72s/it, accuracy=95.3, loss=0.144]\n"
     ]
    },
    {
     "name": "stdout",
     "output_type": "stream",
     "text": [
      "Epoch 12: Loss = 0.1444, Accuracy = 95.28%\n"
     ]
    },
    {
     "name": "stderr",
     "output_type": "stream",
     "text": [
      "Epoch 13/20: 100%|██████████████████████████████████████████| 12/12 [02:32<00:00, 12.72s/it, accuracy=94.8, loss=0.182]\n"
     ]
    },
    {
     "name": "stdout",
     "output_type": "stream",
     "text": [
      "Epoch 13: Loss = 0.1816, Accuracy = 94.75%\n"
     ]
    },
    {
     "name": "stderr",
     "output_type": "stream",
     "text": [
      "Epoch 14/20: 100%|███████████████████████████████████████████| 12/12 [02:29<00:00, 12.47s/it, accuracy=95.5, loss=0.15]\n"
     ]
    },
    {
     "name": "stdout",
     "output_type": "stream",
     "text": [
      "Epoch 14: Loss = 0.1501, Accuracy = 95.54%\n"
     ]
    },
    {
     "name": "stderr",
     "output_type": "stream",
     "text": [
      "Epoch 15/20: 100%|██████████████████████████████████████████| 12/12 [02:29<00:00, 12.50s/it, accuracy=96.1, loss=0.108]\n"
     ]
    },
    {
     "name": "stdout",
     "output_type": "stream",
     "text": [
      "Epoch 15: Loss = 0.1078, Accuracy = 96.06%\n"
     ]
    },
    {
     "name": "stderr",
     "output_type": "stream",
     "text": [
      "Epoch 16/20: 100%|███████████████████████████████████████████| 12/12 [02:29<00:00, 12.49s/it, accuracy=97.1, loss=0.11]\n"
     ]
    },
    {
     "name": "stdout",
     "output_type": "stream",
     "text": [
      "Epoch 16: Loss = 0.1096, Accuracy = 97.11%\n"
     ]
    },
    {
     "name": "stderr",
     "output_type": "stream",
     "text": [
      "Epoch 17/20: 100%|██████████████████████████████████████████| 12/12 [02:30<00:00, 12.54s/it, accuracy=97.6, loss=0.085]\n"
     ]
    },
    {
     "name": "stdout",
     "output_type": "stream",
     "text": [
      "Epoch 17: Loss = 0.0850, Accuracy = 97.64%\n"
     ]
    },
    {
     "name": "stderr",
     "output_type": "stream",
     "text": [
      "Epoch 18/20: 100%|██████████████████████████████████████████| 12/12 [02:29<00:00, 12.50s/it, accuracy=92.9, loss=0.214]\n"
     ]
    },
    {
     "name": "stdout",
     "output_type": "stream",
     "text": [
      "Epoch 18: Loss = 0.2139, Accuracy = 92.91%\n"
     ]
    },
    {
     "name": "stderr",
     "output_type": "stream",
     "text": [
      "Epoch 19/20: 100%|██████████████████████████████████████████| 12/12 [02:30<00:00, 12.50s/it, accuracy=93.7, loss=0.153]\n"
     ]
    },
    {
     "name": "stdout",
     "output_type": "stream",
     "text": [
      "Epoch 19: Loss = 0.1529, Accuracy = 93.70%\n"
     ]
    },
    {
     "name": "stderr",
     "output_type": "stream",
     "text": [
      "Epoch 20/20: 100%|█████████████████████████████████████████| 12/12 [02:29<00:00, 12.43s/it, accuracy=97.4, loss=0.0518]\n"
     ]
    },
    {
     "name": "stdout",
     "output_type": "stream",
     "text": [
      "Epoch 20: Loss = 0.0518, Accuracy = 97.38%\n"
     ]
    },
    {
     "name": "stderr",
     "output_type": "stream",
     "text": [
      "🔍 Evaluating Validation Set: 100%|██████████████████████████████████████████████████████| 4/4 [00:19<00:00,  4.92s/it]\n"
     ]
    },
    {
     "name": "stdout",
     "output_type": "stream",
     "text": [
      "\n",
      "Validation Set Accuracy: 96.06%\n",
      "              precision    recall  f1-score   support\n",
      "\n",
      "           0       0.93      0.98      0.95        43\n",
      "           1       1.00      0.93      0.97        15\n",
      "           2       0.91      0.91      0.91        11\n",
      "           3       1.00      0.97      0.99        35\n",
      "           4       1.00      1.00      1.00         3\n",
      "           5       0.95      0.95      0.95        20\n",
      "\n",
      "    accuracy                           0.96       127\n",
      "   macro avg       0.97      0.96      0.96       127\n",
      "weighted avg       0.96      0.96      0.96       127\n",
      "\n",
      "[[42  0  0  0  0  1]\n",
      " [ 0 14  1  0  0  0]\n",
      " [ 1  0 10  0  0  0]\n",
      " [ 1  0  0 34  0  0]\n",
      " [ 0  0  0  0  3  0]\n",
      " [ 1  0  0  0  0 19]]\n"
     ]
    },
    {
     "data": {
      "image/png": "[encoded data removed]",
      "text/plain": [
       "<Figure size 1000x600 with 1 Axes>"
      ]
     },
     "metadata": {},
     "output_type": "display_data"
    },
    {
     "name": "stderr",
     "output_type": "stream",
     "text": [
      "🔍 Evaluating Testing Set: 100%|█████████████████████████████████████████████████████████| 4/4 [00:20<00:00,  5.00s/it]\n"
     ]
    },
    {
     "name": "stdout",
     "output_type": "stream",
     "text": [
      "\n",
      "Testing Set Accuracy: 92.19%\n",
      "              precision    recall  f1-score   support\n",
      "\n",
      "           0       0.87      0.98      0.92        49\n",
      "           1       0.88      0.70      0.78        10\n",
      "           2       1.00      0.84      0.91        25\n",
      "           3       0.93      0.97      0.95        29\n",
      "           4       1.00      1.00      1.00         8\n",
      "           5       1.00      0.86      0.92         7\n",
      "\n",
      "    accuracy                           0.92       128\n",
      "   macro avg       0.95      0.89      0.91       128\n",
      "weighted avg       0.93      0.92      0.92       128\n",
      "\n",
      "[[48  0  0  1  0  0]\n",
      " [ 3  7  0  0  0  0]\n",
      " [ 3  1 21  0  0  0]\n",
      " [ 1  0  0 28  0  0]\n",
      " [ 0  0  0  0  8  0]\n",
      " [ 0  0  0  1  0  6]]\n"
     ]
    },
    {
     "data": {
      "image/png": "[encoded data removed]",
      "text/plain": [
       "<Figure size 1000x600 with 1 Axes>"
      ]
     },
     "metadata": {},
     "output_type": "display_data"
    }
   ],
   "source": [
    "trained_model = train_model(\"VGG16\", train_loader, val_loader, num_classes=6, num_epochs=20, lr=0.0001)"
   ]
  },
  {
   "cell_type": "markdown",
   "id": "027099c1-529a-481e-b991-6d8595af221b",
   "metadata": {
    "jp-MarkdownHeadingCollapsed": true
   },
   "source": [
    "### AlexNet"
   ]
  },
  {
   "cell_type": "code",
   "execution_count": 15,
   "id": "b8f09fc2-1b38-4af4-987b-a0bb37b523b6",
   "metadata": {},
   "outputs": [
    {
     "name": "stdout",
     "output_type": "stream",
     "text": [
      "\n",
      "Using device: cuda (NVIDIA GeForce GTX 1650)\n",
      "\n",
      "\n",
      "Training AlexNet for 20 epochs...\n",
      "\n"
     ]
    },
    {
     "name": "stderr",
     "output_type": "stream",
     "text": [
      "Epoch 1/20: 100%|█████████████████████████████████████████████| 12/12 [00:06<00:00,  1.77it/s, accuracy=40.9, loss=1.5]\n"
     ]
    },
    {
     "name": "stdout",
     "output_type": "stream",
     "text": [
      "Epoch 1: Loss = 1.4999, Accuracy = 40.94%\n"
     ]
    },
    {
     "name": "stderr",
     "output_type": "stream",
     "text": [
      "Epoch 2/20: 100%|███████████████████████████████████████████| 12/12 [00:06<00:00,  1.98it/s, accuracy=66.4, loss=0.954]\n"
     ]
    },
    {
     "name": "stdout",
     "output_type": "stream",
     "text": [
      "Epoch 2: Loss = 0.9539, Accuracy = 66.40%\n"
     ]
    },
    {
     "name": "stderr",
     "output_type": "stream",
     "text": [
      "Epoch 3/20: 100%|███████████████████████████████████████████| 12/12 [00:06<00:00,  1.89it/s, accuracy=74.8, loss=0.657]\n"
     ]
    },
    {
     "name": "stdout",
     "output_type": "stream",
     "text": [
      "Epoch 3: Loss = 0.6572, Accuracy = 74.80%\n"
     ]
    },
    {
     "name": "stderr",
     "output_type": "stream",
     "text": [
      "Epoch 4/20: 100%|████████████████████████████████████████████| 12/12 [00:06<00:00,  1.94it/s, accuracy=78.2, loss=0.52]\n"
     ]
    },
    {
     "name": "stdout",
     "output_type": "stream",
     "text": [
      "Epoch 4: Loss = 0.5198, Accuracy = 78.22%\n"
     ]
    },
    {
     "name": "stderr",
     "output_type": "stream",
     "text": [
      "Epoch 5/20: 100%|███████████████████████████████████████████| 12/12 [00:05<00:00,  2.01it/s, accuracy=86.9, loss=0.343]\n"
     ]
    },
    {
     "name": "stdout",
     "output_type": "stream",
     "text": [
      "Epoch 5: Loss = 0.3430, Accuracy = 86.88%\n"
     ]
    },
    {
     "name": "stderr",
     "output_type": "stream",
     "text": [
      "Epoch 6/20: 100%|███████████████████████████████████████████| 12/12 [00:05<00:00,  2.01it/s, accuracy=87.7, loss=0.287]\n"
     ]
    },
    {
     "name": "stdout",
     "output_type": "stream",
     "text": [
      "Epoch 6: Loss = 0.2866, Accuracy = 87.66%\n"
     ]
    },
    {
     "name": "stderr",
     "output_type": "stream",
     "text": [
      "Epoch 7/20: 100%|███████████████████████████████████████████| 12/12 [00:06<00:00,  1.94it/s, accuracy=87.4, loss=0.316]\n"
     ]
    },
    {
     "name": "stdout",
     "output_type": "stream",
     "text": [
      "Epoch 7: Loss = 0.3163, Accuracy = 87.40%\n"
     ]
    },
    {
     "name": "stderr",
     "output_type": "stream",
     "text": [
      "Epoch 8/20: 100%|███████████████████████████████████████████| 12/12 [00:06<00:00,  1.89it/s, accuracy=92.7, loss=0.228]\n"
     ]
    },
    {
     "name": "stdout",
     "output_type": "stream",
     "text": [
      "Epoch 8: Loss = 0.2280, Accuracy = 92.65%\n"
     ]
    },
    {
     "name": "stderr",
     "output_type": "stream",
     "text": [
      "Epoch 9/20: 100%|███████████████████████████████████████████| 12/12 [00:06<00:00,  1.89it/s, accuracy=90.6, loss=0.241]\n"
     ]
    },
    {
     "name": "stdout",
     "output_type": "stream",
     "text": [
      "Epoch 9: Loss = 0.2407, Accuracy = 90.55%\n"
     ]
    },
    {
     "name": "stderr",
     "output_type": "stream",
     "text": [
      "Epoch 10/20: 100%|██████████████████████████████████████████| 12/12 [00:06<00:00,  1.94it/s, accuracy=92.9, loss=0.164]\n"
     ]
    },
    {
     "name": "stdout",
     "output_type": "stream",
     "text": [
      "Epoch 10: Loss = 0.1638, Accuracy = 92.91%\n"
     ]
    },
    {
     "name": "stderr",
     "output_type": "stream",
     "text": [
      "Epoch 11/20: 100%|██████████████████████████████████████████| 12/12 [00:06<00:00,  1.88it/s, accuracy=95.5, loss=0.153]\n"
     ]
    },
    {
     "name": "stdout",
     "output_type": "stream",
     "text": [
      "Epoch 11: Loss = 0.1530, Accuracy = 95.54%\n"
     ]
    },
    {
     "name": "stderr",
     "output_type": "stream",
     "text": [
      "Epoch 12/20: 100%|██████████████████████████████████████████| 12/12 [00:06<00:00,  1.98it/s, accuracy=96.3, loss=0.111]\n"
     ]
    },
    {
     "name": "stdout",
     "output_type": "stream",
     "text": [
      "Epoch 12: Loss = 0.1113, Accuracy = 96.33%\n"
     ]
    },
    {
     "name": "stderr",
     "output_type": "stream",
     "text": [
      "Epoch 13/20: 100%|███████████████████████████████████████████| 12/12 [00:06<00:00,  1.88it/s, accuracy=92.4, loss=0.17]\n"
     ]
    },
    {
     "name": "stdout",
     "output_type": "stream",
     "text": [
      "Epoch 13: Loss = 0.1703, Accuracy = 92.39%\n"
     ]
    },
    {
     "name": "stderr",
     "output_type": "stream",
     "text": [
      "Epoch 14/20: 100%|██████████████████████████████████████████| 12/12 [00:05<00:00,  2.01it/s, accuracy=94.8, loss=0.183]\n"
     ]
    },
    {
     "name": "stdout",
     "output_type": "stream",
     "text": [
      "Epoch 14: Loss = 0.1835, Accuracy = 94.75%\n"
     ]
    },
    {
     "name": "stderr",
     "output_type": "stream",
     "text": [
      "Epoch 15/20: 100%|█████████████████████████████████████████| 12/12 [00:06<00:00,  1.98it/s, accuracy=97.6, loss=0.0801]\n"
     ]
    },
    {
     "name": "stdout",
     "output_type": "stream",
     "text": [
      "Epoch 15: Loss = 0.0801, Accuracy = 97.64%\n"
     ]
    },
    {
     "name": "stderr",
     "output_type": "stream",
     "text": [
      "Epoch 16/20: 100%|██████████████████████████████████████████| 12/12 [00:06<00:00,  1.90it/s, accuracy=98.7, loss=0.058]\n"
     ]
    },
    {
     "name": "stdout",
     "output_type": "stream",
     "text": [
      "Epoch 16: Loss = 0.0580, Accuracy = 98.69%\n"
     ]
    },
    {
     "name": "stderr",
     "output_type": "stream",
     "text": [
      "Epoch 17/20: 100%|███████████████████████████████████████████| 12/12 [00:06<00:00,  1.95it/s, accuracy=99, loss=0.0288]\n"
     ]
    },
    {
     "name": "stdout",
     "output_type": "stream",
     "text": [
      "Epoch 17: Loss = 0.0288, Accuracy = 98.95%\n"
     ]
    },
    {
     "name": "stderr",
     "output_type": "stream",
     "text": [
      "Epoch 18/20: 100%|█████████████████████████████████████████| 12/12 [00:06<00:00,  1.88it/s, accuracy=97.4, loss=0.0643]\n"
     ]
    },
    {
     "name": "stdout",
     "output_type": "stream",
     "text": [
      "Epoch 18: Loss = 0.0643, Accuracy = 97.38%\n"
     ]
    },
    {
     "name": "stderr",
     "output_type": "stream",
     "text": [
      "Epoch 19/20: 100%|█████████████████████████████████████████| 12/12 [00:06<00:00,  1.93it/s, accuracy=96.9, loss=0.0755]\n"
     ]
    },
    {
     "name": "stdout",
     "output_type": "stream",
     "text": [
      "Epoch 19: Loss = 0.0755, Accuracy = 96.85%\n"
     ]
    },
    {
     "name": "stderr",
     "output_type": "stream",
     "text": [
      "Epoch 20/20: 100%|█████████████████████████████████████████| 12/12 [00:06<00:00,  1.90it/s, accuracy=96.9, loss=0.0772]\n"
     ]
    },
    {
     "name": "stdout",
     "output_type": "stream",
     "text": [
      "Epoch 20: Loss = 0.0772, Accuracy = 96.85%\n"
     ]
    },
    {
     "name": "stderr",
     "output_type": "stream",
     "text": [
      "🔍 Evaluating Validation Set: 100%|██████████████████████████████████████████████████████| 4/4 [00:00<00:00,  5.95it/s]\n"
     ]
    },
    {
     "name": "stdout",
     "output_type": "stream",
     "text": [
      "\n",
      "Validation Set Accuracy: 92.13%\n",
      "              precision    recall  f1-score   support\n",
      "\n",
      "           0       0.91      0.95      0.93        43\n",
      "           1       0.94      1.00      0.97        15\n",
      "           2       0.83      0.91      0.87        11\n",
      "           3       0.97      0.89      0.93        35\n",
      "           4       0.75      1.00      0.86         3\n",
      "           5       0.94      0.85      0.89        20\n",
      "\n",
      "    accuracy                           0.92       127\n",
      "   macro avg       0.89      0.93      0.91       127\n",
      "weighted avg       0.92      0.92      0.92       127\n",
      "\n",
      "[[41  0  0  1  0  1]\n",
      " [ 0 15  0  0  0  0]\n",
      " [ 1  0 10  0  0  0]\n",
      " [ 2  1  0 31  1  0]\n",
      " [ 0  0  0  0  3  0]\n",
      " [ 1  0  2  0  0 17]]\n"
     ]
    },
    {
     "data": {
      "image/png": "[encoded data removed]",
      "text/plain": [
       "<Figure size 1000x600 with 1 Axes>"
      ]
     },
     "metadata": {},
     "output_type": "display_data"
    },
    {
     "name": "stderr",
     "output_type": "stream",
     "text": [
      "🔍 Evaluating Testing Set: 100%|█████████████████████████████████████████████████████████| 4/4 [00:00<00:00,  6.11it/s]\n"
     ]
    },
    {
     "name": "stdout",
     "output_type": "stream",
     "text": [
      "\n",
      "Testing Set Accuracy: 91.41%\n",
      "              precision    recall  f1-score   support\n",
      "\n",
      "           0       0.96      0.92      0.94        49\n",
      "           1       0.75      0.90      0.82        10\n",
      "           2       0.96      0.92      0.94        25\n",
      "           3       0.88      0.97      0.92        29\n",
      "           4       0.89      1.00      0.94         8\n",
      "           5       1.00      0.57      0.73         7\n",
      "\n",
      "    accuracy                           0.91       128\n",
      "   macro avg       0.90      0.88      0.88       128\n",
      "weighted avg       0.92      0.91      0.91       128\n",
      "\n",
      "[[45  0  1  2  1  0]\n",
      " [ 0  9  0  1  0  0]\n",
      " [ 0  2 23  0  0  0]\n",
      " [ 1  0  0 28  0  0]\n",
      " [ 0  0  0  0  8  0]\n",
      " [ 1  1  0  1  0  4]]\n"
     ]
    },
    {
     "data": {
      "image/png": "[encoded data removed]",
      "text/plain": [
       "<Figure size 1000x600 with 1 Axes>"
      ]
     },
     "metadata": {},
     "output_type": "display_data"
    }
   ],
   "source": [
    "trained_model = train_model(\"AlexNet\", train_loader, val_loader, num_classes=6, num_epochs=20, lr=0.0001)"
   ]
  },
  {
   "cell_type": "code",
   "execution_count": null,
   "id": "05addf7f-e3e1-435a-a9cd-34b4e736bdbc",
   "metadata": {},
   "outputs": [],
   "source": []
  }
 ],
 "metadata": {
  "kernelspec": {
   "display_name": "Python 3 (ipykernel)",
   "language": "python",
   "name": "python3"
  },
  "language_info": {
   "codemirror_mode": {
    "name": "ipython",
    "version": 3
   },
   "file_extension": ".py",
   "mimetype": "text/x-python",
   "name": "python",
   "nbconvert_exporter": "python",
   "pygments_lexer": "ipython3",
   "version": "3.12.7"
  }
 },
 "nbformat": 4,
 "nbformat_minor": 5
}
